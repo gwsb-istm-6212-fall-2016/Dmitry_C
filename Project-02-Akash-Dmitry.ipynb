{
 "cells": [
  {
   "cell_type": "markdown",
   "metadata": {},
   "source": [
    "**Team:** Akash Bose, Dmitry Chudinovskikh"
   ]
  },
  {
   "cell_type": "markdown",
   "metadata": {},
   "source": [
    "# PROJECT 2 - Houston Crime Data Exploration\n",
    "\n",
    "Why Houston? - Houston has been my home for the last few years and I am very passionate about the city. The city has a lot to offer but like any other big city it isn't above crime, and as such you should reserve your judgement simply based on the exploration presented in this notebook. \n",
    "\n",
    "Why crime? - It was the most interetsing set of data in the list. We weren't too passionate about mulicipality reports or zoning and decide to explore crime. \n",
    "\n",
    "Having lived in Houston, I can tell you the areas to avoid - 3rd and 4th ward (the usual - south side). But let's explore this data and see what we find.\n",
    "\n",
    "* Anecdote: I actually lived in red building at the bottom left corner of the tall tower (William's Tower). "
   ]
  },
  {
   "cell_type": "markdown",
   "metadata": {},
   "source": [
    "![Houston](https://raw.githubusercontent.com/bosea3000/Project-02/master/Houston.jpg)"
   ]
  },
  {
   "cell_type": "markdown",
   "metadata": {},
   "source": [
    "# Part-1 (Examine the data) "
   ]
  },
  {
   "cell_type": "markdown",
   "metadata": {},
   "source": [
    "The csv file used here has been modified from the original source data available at: http://www.houstontx.gov/police/cs/index-2.htm\n",
    "\n",
    "Modification Steps:\n",
    "1. Download all availble (.xls) files for 2016 from the website and save it as file1, file2, ...., etc.\n",
    "2. Open each individual file and save-as (.csv UTF-8)\n",
    "       --> Alternatively, you could use in2csv command in the csvtoolkit package.\n",
    "3. Combine the separate files into one - See code in the markdown below \n",
    "4. Once combined, we open the merged csv and filter out ALL the non-2016 values and DELETE. Don't forget to SAVE. \n",
    "       --> We are only interested in 2016 crime. The files somehow contained few data points from 1985,86..,etc.\n",
    "\n",
    "*Now we have final file ready for export using the wget command "
   ]
  },
  {
   "cell_type": "markdown",
   "metadata": {
    "collapsed": false
   },
   "source": [
    "- !csvcut file1.csv | head -1 > crimeData.csv (To get the header and put into a new file)\n",
    "- !tail -n +2 -q file*.csv >> crimeData.csv (To get every row EXCEPT the header and append to the new file)"
   ]
  },
  {
   "cell_type": "code",
   "execution_count": 1,
   "metadata": {
    "collapsed": false
   },
   "outputs": [
    {
     "name": "stdout",
     "output_type": "stream",
     "text": [
      "--2016-11-11 16:54:32--  https://raw.githubusercontent.com/bosea3000/Project-02/master/crimeData.csv\n",
      "Resolving raw.githubusercontent.com (raw.githubusercontent.com)... 151.101.32.133\n",
      "Connecting to raw.githubusercontent.com (raw.githubusercontent.com)|151.101.32.133|:443... connected.\n",
      "HTTP request sent, awaiting response... 200 OK\n",
      "Length: 6526245 (6.2M) [text/plain]\n",
      "Saving to: ‘crimeData.csv’\n",
      "\n",
      "crimeData.csv       100%[=====================>]   6.22M  --.-KB/s   in 0.08s  \n",
      "\n",
      "2016-11-11 16:54:32 (80.3 MB/s) - ‘crimeData.csv’ saved [6526245/6526245]\n",
      "\n"
     ]
    }
   ],
   "source": [
    "!wget https://raw.githubusercontent.com/bosea3000/Project-02/master/crimeData.csv"
   ]
  },
  {
   "cell_type": "markdown",
   "metadata": {},
   "source": [
    "### Basic exploration using csvkit"
   ]
  },
  {
   "cell_type": "code",
   "execution_count": 2,
   "metadata": {
    "collapsed": false
   },
   "outputs": [
    {
     "name": "stdout",
     "output_type": "stream",
     "text": [
      "86769 crimeData.csv\r\n"
     ]
    }
   ],
   "source": [
    "!wc -l crimeData.csv"
   ]
  },
  {
   "cell_type": "markdown",
   "metadata": {},
   "source": [
    "##### Let's look at the header line and see what we are dealing with"
   ]
  },
  {
   "cell_type": "code",
   "execution_count": 3,
   "metadata": {
    "collapsed": false
   },
   "outputs": [
    {
     "name": "stdout",
     "output_type": "stream",
     "text": [
      "|-------+------+--------------+------+---------+------------+------------+------+--------+------------------|\r\n",
      "|  Date | Hour | Offense_Type | Beat | Premise | BlockRange | StreetName | Type | Suffix | Number_Offenses  |\r\n",
      "|-------+------+--------------+------+---------+------------+------------+------+--------+------------------|\r\n"
     ]
    }
   ],
   "source": [
    "!csvcut crimeData.csv | head -1 | csvlook"
   ]
  },
  {
   "cell_type": "markdown",
   "metadata": {},
   "source": [
    "##### Essentially, the same function as the code above but more direct and tabular"
   ]
  },
  {
   "cell_type": "code",
   "execution_count": 4,
   "metadata": {
    "collapsed": false
   },
   "outputs": [
    {
     "name": "stdout",
     "output_type": "stream",
     "text": [
      "  1: Date\n",
      "  2: Hour\n",
      "  3: Offense_Type\n",
      "  4: Beat\n",
      "  5: Premise\n",
      "  6: BlockRange\n",
      "  7: StreetName\n",
      "  8: Type\n",
      "  9: Suffix\n",
      " 10: Number_Offenses\n"
     ]
    }
   ],
   "source": [
    "!csvcut -n crimeData.csv"
   ]
  },
  {
   "cell_type": "markdown",
   "metadata": {},
   "source": [
    "##### Let's see what are the TYPES of crimes reported in this data set"
   ]
  },
  {
   "cell_type": "code",
   "execution_count": 5,
   "metadata": {
    "collapsed": false
   },
   "outputs": [
    {
     "name": "stdout",
     "output_type": "stream",
     "text": [
      "1\r\n",
      "Aggravated Assault\r\n",
      "Auto Theft\r\n",
      "Burglary\r\n",
      "Murder\r\n",
      "Offense_Type\r\n",
      "Rape\r\n",
      "Robbery\r\n",
      "Theft\r\n"
     ]
    }
   ],
   "source": [
    "!csvcut -c3 crimeData.csv | sort | uniq "
   ]
  },
  {
   "cell_type": "markdown",
   "metadata": {},
   "source": [
    "##### We see 2 entries that are questionable: \n",
    "1. Offense_Type is the header  \n",
    "2. \"1\"is probably a typo"
   ]
  },
  {
   "cell_type": "markdown",
   "metadata": {},
   "source": [
    "##### This is to see which entry has only been recorded ONCE. "
   ]
  },
  {
   "cell_type": "code",
   "execution_count": 6,
   "metadata": {
    "collapsed": false
   },
   "outputs": [
    {
     "name": "stdout",
     "output_type": "stream",
     "text": [
      "Offense_Type\r\n"
     ]
    }
   ],
   "source": [
    "!csvcut -c3 crimeData.csv | sort | uniq -u"
   ]
  },
  {
   "cell_type": "markdown",
   "metadata": {},
   "source": [
    "And it's the header"
   ]
  },
  {
   "cell_type": "markdown",
   "metadata": {},
   "source": [
    "##### Let's now count each TYPE of crime in 2016. "
   ]
  },
  {
   "cell_type": "code",
   "execution_count": 7,
   "metadata": {
    "collapsed": false
   },
   "outputs": [
    {
     "name": "stdout",
     "output_type": "stream",
     "text": [
      "  13134 Burglary\r\n",
      "      1 Offense_Type\r\n",
      "      2 1\r\n",
      "    213 Murder\r\n",
      "  48659 Theft\r\n",
      "    692 Rape\r\n",
      "   7273 Robbery\r\n",
      "   7844 Aggravated Assault\r\n",
      "   8952 Auto Theft\r\n"
     ]
    }
   ],
   "source": [
    "!csvcut -c3 crimeData.csv | sort | uniq -c | sort"
   ]
  },
  {
   "cell_type": "markdown",
   "metadata": {},
   "source": [
    "##### That's a LOT of crime!! ~50,000 Thefts and ~13,000 Burglaries in just 9 months alone! "
   ]
  },
  {
   "cell_type": "markdown",
   "metadata": {},
   "source": [
    "##### You can also use the 'grep' command to do a specific search. Here we search for murder and count the total number"
   ]
  },
  {
   "cell_type": "code",
   "execution_count": 8,
   "metadata": {
    "collapsed": false
   },
   "outputs": [
    {
     "name": "stdout",
     "output_type": "stream",
     "text": [
      "213\r\n"
     ]
    }
   ],
   "source": [
    "!csvcut crimeData.csv | grep -o 'Murder'| wc -l "
   ]
  },
  {
   "cell_type": "markdown",
   "metadata": {},
   "source": [
    "##### The city of Houston has divided up the city into subdivision and each subdivision has a code associated with it, as shown below. "
   ]
  },
  {
   "cell_type": "code",
   "execution_count": 9,
   "metadata": {
    "collapsed": false
   },
   "outputs": [
    {
     "name": "stdout",
     "output_type": "stream",
     "text": [
      "10H10\r\n",
      "10H20\r\n",
      "10H30\r\n",
      "10H40\r\n",
      "10H50\r\n"
     ]
    }
   ],
   "source": [
    "!csvcut -c4 crimeData.csv | sort | uniq -d | sort | head -5"
   ]
  },
  {
   "cell_type": "markdown",
   "metadata": {},
   "source": [
    "##### Let's explore the subdivisions column and see the top-5 crime hot-spots"
   ]
  },
  {
   "cell_type": "code",
   "execution_count": 10,
   "metadata": {
    "collapsed": false
   },
   "outputs": [
    {
     "name": "stdout",
     "output_type": "stream",
     "text": [
      "  4. Beat\r\n",
      "\t<class 'str'>\r\n",
      "\tNulls: False\r\n",
      "\tUnique values: 118\r\n",
      "\t5 most frequent values:\r\n",
      "\t\t1A20:\t2078\r\n",
      "\t\t12D10:\t1844\r\n",
      "\t\t19G10:\t1741\r\n",
      "\t\t6B60:\t1629\r\n",
      "\t\t2A50:\t1621\r\n",
      "\tMax length: 8\r\n",
      "\r\n",
      "Row count: 86769\r\n"
     ]
    }
   ],
   "source": [
    "!csvstat -c4 crimeData.csv"
   ]
  },
  {
   "cell_type": "markdown",
   "metadata": {},
   "source": [
    "###### Let's also explore the distribution of the Number of Occurrances column"
   ]
  },
  {
   "cell_type": "code",
   "execution_count": 11,
   "metadata": {
    "collapsed": false
   },
   "outputs": [
    {
     "name": "stdout",
     "output_type": "stream",
     "text": [
      "  85262 1\n",
      "      1 10\n",
      "   1276 2\n",
      "    163 3\n",
      "     46 4\n",
      "     14 5\n",
      "      5 6\n",
      "      1 7\n",
      "      1 8\n",
      "      1 Number_Offenses\n"
     ]
    }
   ],
   "source": [
    "!csvcut -c10 crimeData.csv | sort | uniq -c"
   ]
  },
  {
   "cell_type": "markdown",
   "metadata": {},
   "source": [
    "### What about NULL values? \n",
    "We can explore more using csvstat"
   ]
  },
  {
   "cell_type": "markdown",
   "metadata": {},
   "source": [
    "##### Dimension - Time"
   ]
  },
  {
   "cell_type": "code",
   "execution_count": 12,
   "metadata": {
    "collapsed": false
   },
   "outputs": [
    {
     "name": "stdout",
     "output_type": "stream",
     "text": [
      "  1. Date\n",
      "\t<class 'datetime.date'>\n",
      "\tNulls: False\n",
      "\tMin: 2016-01-01\n",
      "\tMax: 2016-09-30\n",
      "\tUnique values: 274\n",
      "\t5 most frequent values:\n",
      "\t\t2016-05-18:\t395\n",
      "\t\t2016-09-15:\t392\n",
      "\t\t2016-06-21:\t386\n",
      "\t\t2016-09-02:\t385\n",
      "\t\t2016-04-15:\t384\n",
      "  2. Hour\n",
      "\t<class 'int'>\n",
      "\tNulls: False\n",
      "\tMin: 0\n",
      "\tMax: 23\n",
      "\tSum: 1120363\n",
      "\tMean: 12.912019269554795\n",
      "\tMedian: 13\n",
      "\tStandard Deviation: 5.918223575936074\n",
      "\tUnique values: 24\n",
      "\t5 most frequent values:\n",
      "\t\t15:\t5407\n",
      "\t\t16:\t5257\n",
      "\t\t14:\t5091\n",
      "\t\t13:\t4930\n",
      "\t\t11:\t4867\n",
      "\n",
      "Row count: 86769\n"
     ]
    }
   ],
   "source": [
    "!csvstat -c1,2 crimeData.csv"
   ]
  },
  {
   "cell_type": "markdown",
   "metadata": {},
   "source": [
    "##### Dimension - Offense"
   ]
  },
  {
   "cell_type": "code",
   "execution_count": 13,
   "metadata": {
    "collapsed": false
   },
   "outputs": [
    {
     "name": "stdout",
     "output_type": "stream",
     "text": [
      "  3. Offense_Type\r\n",
      "\t<class 'str'>\r\n",
      "\tNulls: False\r\n",
      "\tUnique values: 8\r\n",
      "\t5 most frequent values:\r\n",
      "\t\tTheft:\t48659\r\n",
      "\t\tBurglary:\t13134\r\n",
      "\t\tAuto Theft:\t8952\r\n",
      "\t\tAggravated Assault:\t7844\r\n",
      "\t\tRobbery:\t7273\r\n",
      "\tMax length: 18\r\n",
      "\r\n",
      "Row count: 86769\r\n"
     ]
    }
   ],
   "source": [
    "!csvstat -c3 crimeData.csv"
   ]
  },
  {
   "cell_type": "markdown",
   "metadata": {},
   "source": [
    "##### Dimension - Location"
   ]
  },
  {
   "cell_type": "code",
   "execution_count": 14,
   "metadata": {
    "collapsed": false
   },
   "outputs": [
    {
     "name": "stdout",
     "output_type": "stream",
     "text": [
      "  4. Beat\n",
      "\t<class 'str'>\n",
      "\tNulls: False\n",
      "\tUnique values: 118\n",
      "\t5 most frequent values:\n",
      "\t\t1A20:\t2078\n",
      "\t\t12D10:\t1844\n",
      "\t\t19G10:\t1741\n",
      "\t\t6B60:\t1629\n",
      "\t\t2A50:\t1621\n",
      "\tMax length: 8\n",
      "  5. Premise\n",
      "\t<class 'str'>\n",
      "\tNulls: True\n",
      "\tUnique values: 125\n",
      "\t5 most frequent values:\n",
      "\t\tResidence or House:\t11945\n",
      "\t\tApartment Parking Lot:\t9961\n",
      "\t\tRoad, Street, or Sidewalk:\t9083\n",
      "\t\tApartment:\t8318\n",
      "\t\tRestaurant or Cafeteria Parking Lot:\t3927\n",
      "\tMax length: 42\n",
      "  6. BlockRange\n",
      "\t<class 'str'>\n",
      "\tNulls: False\n",
      "\tUnique values: 233\n",
      "\t5 most frequent values:\n",
      "\t\t100-199:\t1193\n",
      "\t\t2300-2399:\t1178\n",
      "\t\t900-999:\t1101\n",
      "\t\t800-899:\t1066\n",
      "\t\t300-399:\t1055\n",
      "\tMax length: 13\n",
      "  7. StreetName\n",
      "\t<class 'str'>\n",
      "\tNulls: False\n",
      "\tUnique values: 6887\n",
      "\t5 most frequent values:\n",
      "\t\tWESTHEIMER:\t2660\n",
      "\t\tGULF:\t1321\n",
      "\t\tSAM HOUSTON:\t1309\n",
      "\t\tRICHMOND:\t1238\n",
      "\t\tKATY:\t1225\n",
      "\tMax length: 31\n",
      "  8. Type\n",
      "\t<class 'str'>\n",
      "\tNulls: False\n",
      "\tUnique values: 27\n",
      "\t5 most frequent values:\n",
      "\t\t-:\t19540\n",
      "\t\tDR:\t18333\n",
      "\t\tST:\t15181\n",
      "\t\tRD:\t13156\n",
      "\t\tFWY:\t6263\n",
      "\tMax length: 4\n",
      "  9. Suffix\n",
      "\t<class 'str'>\n",
      "\tNulls: False\n",
      "\tValues: E, S, -, N, W\n",
      "\n",
      "Row count: 86769\n"
     ]
    }
   ],
   "source": [
    "!csvstat -c4,5,6,7,8,9 crimeData.csv"
   ]
  },
  {
   "cell_type": "markdown",
   "metadata": {},
   "source": [
    "##### Dimension - Measure of Offenses"
   ]
  },
  {
   "cell_type": "code",
   "execution_count": 15,
   "metadata": {
    "collapsed": false
   },
   "outputs": [
    {
     "name": "stdout",
     "output_type": "stream",
     "text": [
      " 10. Number_Offenses\r\n",
      "\t<class 'int'>\r\n",
      "\tNulls: False\r\n",
      "\tMin: 1\r\n",
      "\tMax: 10\r\n",
      "\tSum: 88612\r\n",
      "\tMean: 1.0212403047171226\r\n",
      "\tMedian: 1\r\n",
      "\tStandard Deviation: 0.18020919917067071\r\n",
      "\tUnique values: 9\r\n",
      "\t5 most frequent values:\r\n",
      "\t\t1:\t85262\r\n",
      "\t\t2:\t1276\r\n",
      "\t\t3:\t163\r\n",
      "\t\t4:\t46\r\n",
      "\t\t5:\t14\r\n",
      "\r\n",
      "Row count: 86769\r\n"
     ]
    }
   ],
   "source": [
    "!csvstat -c10 crimeData.csv"
   ]
  },
  {
   "cell_type": "markdown",
   "metadata": {},
   "source": [
    "### Questions?\n",
    "1. What type of crime is most frequent in 2016?\n",
    "2. What areas are affected the most?\n",
    "3. What is the trend of total crime each month in 2016?\n",
    "4. What time of day (in hour) do we see spikes in crime? \n",
    "5. What's the worst street to be on a holiday - (Let's say 4th of July)?"
   ]
  },
  {
   "cell_type": "markdown",
   "metadata": {},
   "source": [
    "# Part 2 - (Setting Database and SQL Queries)"
   ]
  },
  {
   "cell_type": "code",
   "execution_count": 16,
   "metadata": {
    "collapsed": false
   },
   "outputs": [
    {
     "name": "stderr",
     "output_type": "stream",
     "text": [
      "/opt/conda/lib/python3.5/site-packages/IPython/config.py:13: ShimWarning: The `IPython.config` package has been deprecated. You should import from traitlets.config instead.\n",
      "  \"You should import from traitlets.config instead.\", ShimWarning)\n",
      "/opt/conda/lib/python3.5/site-packages/IPython/utils/traitlets.py:5: UserWarning: IPython.utils.traitlets has moved to a top-level traitlets package.\n",
      "  warn(\"IPython.utils.traitlets has moved to a top-level traitlets package.\")\n"
     ]
    }
   ],
   "source": [
    "%load_ext sql"
   ]
  },
  {
   "cell_type": "code",
   "execution_count": 17,
   "metadata": {
    "collapsed": false
   },
   "outputs": [
    {
     "name": "stdout",
     "output_type": "stream",
     "text": [
      "[sudo] password for jovyan: Restarting PostgreSQL 9.5 database server: main.\n"
     ]
    }
   ],
   "source": [
    "!echo 'redspot' | sudo -S service postgresql restart"
   ]
  },
  {
   "cell_type": "code",
   "execution_count": 18,
   "metadata": {
    "collapsed": false
   },
   "outputs": [],
   "source": [
    "!createdb -U dbuser Project"
   ]
  },
  {
   "cell_type": "code",
   "execution_count": 19,
   "metadata": {
    "collapsed": false
   },
   "outputs": [
    {
     "data": {
      "text/plain": [
       "'Connected: dbuser@Project'"
      ]
     },
     "execution_count": 19,
     "metadata": {},
     "output_type": "execute_result"
    }
   ],
   "source": [
    "%sql postgresql://dbuser@localhost:5432/Project"
   ]
  },
  {
   "cell_type": "markdown",
   "metadata": {},
   "source": [
    "### Creating the Table - Crime"
   ]
  },
  {
   "cell_type": "code",
   "execution_count": 20,
   "metadata": {
    "collapsed": false
   },
   "outputs": [
    {
     "name": "stdout",
     "output_type": "stream",
     "text": [
      "Done.\n",
      "Done.\n"
     ]
    },
    {
     "data": {
      "text/plain": [
       "[]"
      ]
     },
     "execution_count": 20,
     "metadata": {},
     "output_type": "execute_result"
    }
   ],
   "source": [
    "%%sql\n",
    "DROP TABLE IF EXISTS Crime;\n",
    "CREATE TABLE Crime (\n",
    "    Date TIMESTAMP(0),\n",
    "    Hour CHAR(4),\n",
    "    Offense_Type VARCHAR(42),\n",
    "    Beat VARCHAR(20),\n",
    "    Premise VARCHAR(64),\n",
    "    BlockRange VARCHAR(20),\n",
    "    StreetName VARCHAR(64),\n",
    "    Type VARCHAR(16),\n",
    "    Suffix VARCHAR(12),\n",
    "    Number_offenses INT\n",
    "    \n",
    ");"
   ]
  },
  {
   "cell_type": "markdown",
   "metadata": {},
   "source": [
    "##### Loading our final (.csv) file into the database"
   ]
  },
  {
   "cell_type": "code",
   "execution_count": 21,
   "metadata": {
    "collapsed": false
   },
   "outputs": [
    {
     "name": "stdout",
     "output_type": "stream",
     "text": [
      "86769 rows affected.\n"
     ]
    },
    {
     "data": {
      "text/plain": [
       "[]"
      ]
     },
     "execution_count": 21,
     "metadata": {},
     "output_type": "execute_result"
    }
   ],
   "source": [
    "%%sql\n",
    "COPY Crime \n",
    "FROM '/home/jovyan/work/crimeData.csv'\n",
    "CSV\n",
    "HEADER\n",
    "QUOTE '\"'\n",
    "DELIMITER ',';"
   ]
  },
  {
   "cell_type": "markdown",
   "metadata": {},
   "source": [
    "##### Sanity check?!"
   ]
  },
  {
   "cell_type": "code",
   "execution_count": 22,
   "metadata": {
    "collapsed": false
   },
   "outputs": [
    {
     "name": "stdout",
     "output_type": "stream",
     "text": [
      "1 rows affected.\n"
     ]
    },
    {
     "data": {
      "text/html": [
       "<table>\n",
       "    <tr>\n",
       "        <th>count</th>\n",
       "    </tr>\n",
       "    <tr>\n",
       "        <td>86769</td>\n",
       "    </tr>\n",
       "</table>"
      ],
      "text/plain": [
       "[(86769,)]"
      ]
     },
     "execution_count": 22,
     "metadata": {},
     "output_type": "execute_result"
    }
   ],
   "source": [
    "%%sql \n",
    "SELECT COUNT(*) \n",
    "FROM Crime;"
   ]
  },
  {
   "cell_type": "code",
   "execution_count": 23,
   "metadata": {
    "collapsed": false
   },
   "outputs": [
    {
     "name": "stdout",
     "output_type": "stream",
     "text": [
      "Done.\n"
     ]
    },
    {
     "data": {
      "text/plain": [
       "[]"
      ]
     },
     "execution_count": 23,
     "metadata": {},
     "output_type": "execute_result"
    }
   ],
   "source": [
    "%%sql \n",
    "ALTER TABLE Crime\n",
    "ADD COLUMN Crime_id SERIAL PRIMARY\n",
    "KEY;"
   ]
  },
  {
   "cell_type": "code",
   "execution_count": 24,
   "metadata": {
    "collapsed": false
   },
   "outputs": [
    {
     "name": "stdout",
     "output_type": "stream",
     "text": [
      "5 rows affected.\n"
     ]
    },
    {
     "data": {
      "text/html": [
       "<table>\n",
       "    <tr>\n",
       "        <th>date</th>\n",
       "        <th>hour</th>\n",
       "        <th>offense_type</th>\n",
       "        <th>beat</th>\n",
       "        <th>premise</th>\n",
       "        <th>blockrange</th>\n",
       "        <th>streetname</th>\n",
       "        <th>type</th>\n",
       "        <th>suffix</th>\n",
       "        <th>number_offenses</th>\n",
       "        <th>crime_id</th>\n",
       "    </tr>\n",
       "    <tr>\n",
       "        <td>2016-01-01 00:00:00</td>\n",
       "        <td>10  </td>\n",
       "        <td>Burglary</td>\n",
       "        <td>10H10</td>\n",
       "        <td>Restaurant or Cafeteria</td>\n",
       "        <td>300-399</td>\n",
       "        <td>LOCKWOOD</td>\n",
       "        <td>DR</td>\n",
       "        <td>S</td>\n",
       "        <td>1</td>\n",
       "        <td>1</td>\n",
       "    </tr>\n",
       "    <tr>\n",
       "        <td>2016-01-01 00:00:00</td>\n",
       "        <td>23  </td>\n",
       "        <td>Theft</td>\n",
       "        <td>10H30</td>\n",
       "        <td>Road, Street, or Sidewalk</td>\n",
       "        <td>1000-1099</td>\n",
       "        <td>BASTROP</td>\n",
       "        <td>ST</td>\n",
       "        <td>-</td>\n",
       "        <td>1</td>\n",
       "        <td>2</td>\n",
       "    </tr>\n",
       "    <tr>\n",
       "        <td>2016-01-01 00:00:00</td>\n",
       "        <td>18  </td>\n",
       "        <td>Aggravated Assault</td>\n",
       "        <td>10H40</td>\n",
       "        <td>Road, Street, or Sidewalk</td>\n",
       "        <td>1700-1799</td>\n",
       "        <td>ELGIN</td>\n",
       "        <td>ST</td>\n",
       "        <td>-</td>\n",
       "        <td>2</td>\n",
       "        <td>3</td>\n",
       "    </tr>\n",
       "    <tr>\n",
       "        <td>2016-01-01 00:00:00</td>\n",
       "        <td>18  </td>\n",
       "        <td>Auto Theft</td>\n",
       "        <td>10H40</td>\n",
       "        <td>Other Parking Lot</td>\n",
       "        <td>3000-3099</td>\n",
       "        <td>TRAVIS</td>\n",
       "        <td>-</td>\n",
       "        <td>-</td>\n",
       "        <td>1</td>\n",
       "        <td>4</td>\n",
       "    </tr>\n",
       "    <tr>\n",
       "        <td>2016-01-01 00:00:00</td>\n",
       "        <td>2   </td>\n",
       "        <td>Burglary</td>\n",
       "        <td>10H40</td>\n",
       "        <td>Grocery Store or Supermarket</td>\n",
       "        <td>4200-4299</td>\n",
       "        <td>SAN JACINTO</td>\n",
       "        <td>-</td>\n",
       "        <td>-</td>\n",
       "        <td>1</td>\n",
       "        <td>5</td>\n",
       "    </tr>\n",
       "</table>"
      ],
      "text/plain": [
       "[(datetime.datetime(2016, 1, 1, 0, 0), '10  ', 'Burglary', '10H10', 'Restaurant or Cafeteria', '300-399', 'LOCKWOOD', 'DR', 'S', 1, 1),\n",
       " (datetime.datetime(2016, 1, 1, 0, 0), '23  ', 'Theft', '10H30', 'Road, Street, or Sidewalk', '1000-1099', 'BASTROP', 'ST', '-', 1, 2),\n",
       " (datetime.datetime(2016, 1, 1, 0, 0), '18  ', 'Aggravated Assault', '10H40', 'Road, Street, or Sidewalk', '1700-1799', 'ELGIN', 'ST', '-', 2, 3),\n",
       " (datetime.datetime(2016, 1, 1, 0, 0), '18  ', 'Auto Theft', '10H40', 'Other Parking Lot', '3000-3099', 'TRAVIS', '-', '-', 1, 4),\n",
       " (datetime.datetime(2016, 1, 1, 0, 0), '2   ', 'Burglary', '10H40', 'Grocery Store or Supermarket', '4200-4299', 'SAN JACINTO', '-', '-', 1, 5)]"
      ]
     },
     "execution_count": 24,
     "metadata": {},
     "output_type": "execute_result"
    }
   ],
   "source": [
    "%%sql\n",
    "SELECT * \n",
    "FROM Crime\n",
    "LIMIT 5"
   ]
  },
  {
   "cell_type": "markdown",
   "metadata": {},
   "source": [
    "##### Phew! We passed!"
   ]
  },
  {
   "cell_type": "markdown",
   "metadata": {
    "collapsed": true
   },
   "source": [
    "### Time for some Queries"
   ]
  },
  {
   "cell_type": "markdown",
   "metadata": {},
   "source": [
    "##### Question 1:  What type of crime is most frequent in 2016?\n",
    "\n",
    "Notice the Query below. We asked the same question in part 1 using the csvtoolkit but having a visual aid really transforms the perception of the data in question. The most common cirme is - Theft. "
   ]
  },
  {
   "cell_type": "code",
   "execution_count": 25,
   "metadata": {
    "collapsed": false
   },
   "outputs": [
    {
     "name": "stdout",
     "output_type": "stream",
     "text": [
      "8 rows affected.\n"
     ]
    },
    {
     "data": {
      "text/html": [
       "<table>\n",
       "    <tr>\n",
       "        <th>offense_type</th>\n",
       "        <th>count</th>\n",
       "    </tr>\n",
       "    <tr>\n",
       "        <td>1</td>\n",
       "        <td>2</td>\n",
       "    </tr>\n",
       "    <tr>\n",
       "        <td>Murder</td>\n",
       "        <td>213</td>\n",
       "    </tr>\n",
       "    <tr>\n",
       "        <td>Rape</td>\n",
       "        <td>692</td>\n",
       "    </tr>\n",
       "    <tr>\n",
       "        <td>Robbery</td>\n",
       "        <td>7273</td>\n",
       "    </tr>\n",
       "    <tr>\n",
       "        <td>Aggravated Assault</td>\n",
       "        <td>7844</td>\n",
       "    </tr>\n",
       "    <tr>\n",
       "        <td>Auto Theft</td>\n",
       "        <td>8952</td>\n",
       "    </tr>\n",
       "    <tr>\n",
       "        <td>Burglary</td>\n",
       "        <td>13134</td>\n",
       "    </tr>\n",
       "    <tr>\n",
       "        <td>Theft</td>\n",
       "        <td>48659</td>\n",
       "    </tr>\n",
       "</table>"
      ],
      "text/plain": [
       "[('1', 2),\n",
       " ('Murder', 213),\n",
       " ('Rape', 692),\n",
       " ('Robbery', 7273),\n",
       " ('Aggravated Assault', 7844),\n",
       " ('Auto Theft', 8952),\n",
       " ('Burglary', 13134),\n",
       " ('Theft', 48659)]"
      ]
     },
     "execution_count": 25,
     "metadata": {},
     "output_type": "execute_result"
    }
   ],
   "source": [
    "%%sql\n",
    "SELECT DISTINCT OFFENSE_TYPE, COUNT(*)\n",
    "FROM Crime\n",
    "GROUP BY OFFENSE_TYPE\n",
    "ORDER BY COUNT(*)"
   ]
  },
  {
   "cell_type": "code",
   "execution_count": 26,
   "metadata": {
    "collapsed": false
   },
   "outputs": [
    {
     "name": "stderr",
     "output_type": "stream",
     "text": [
      "/opt/conda/lib/python3.5/site-packages/matplotlib/font_manager.py:273: UserWarning: Matplotlib is building the font cache using fc-list. This may take a moment.\n",
      "  warnings.warn('Matplotlib is building the font cache using fc-list. This may take a moment.')\n",
      "/opt/conda/lib/python3.5/site-packages/matplotlib/font_manager.py:273: UserWarning: Matplotlib is building the font cache using fc-list. This may take a moment.\n",
      "  warnings.warn('Matplotlib is building the font cache using fc-list. This may take a moment.')\n"
     ]
    },
    {
     "name": "stdout",
     "output_type": "stream",
     "text": [
      "Offense Type Distribution\r\n"
     ]
    },
    {
     "data": {
      "image/png": "[encoded data removed]",
      "text/plain": [
       "<matplotlib.figure.Figure at 0x7f1f4d6b90b8>"
      ]
     },
     "metadata": {},
     "output_type": "display_data"
    }
   ],
   "source": [
    "import matplotlib\n",
    "%matplotlib inline \n",
    "\n",
    "q1_results = _\n",
    "q1_results.bar()\n",
    "!echo 'Offense Type Distribution'"
   ]
  },
  {
   "cell_type": "markdown",
   "metadata": {},
   "source": [
    "##### I added the csv command below for a quick comparison "
   ]
  },
  {
   "cell_type": "code",
   "execution_count": 27,
   "metadata": {
    "collapsed": false
   },
   "outputs": [
    {
     "name": "stdout",
     "output_type": "stream",
     "text": [
      "  13134 Burglary\r\n",
      "      1 Offense_Type\r\n",
      "      2 1\r\n",
      "    213 Murder\r\n",
      "  48659 Theft\r\n",
      "    692 Rape\r\n",
      "   7273 Robbery\r\n",
      "   7844 Aggravated Assault\r\n",
      "   8952 Auto Theft\r\n"
     ]
    }
   ],
   "source": [
    "!csvcut -c3 crimeData.csv | sort | uniq -c | sort"
   ]
  },
  {
   "cell_type": "markdown",
   "metadata": {},
   "source": [
    "##### Question 2: What areas are affected the most?"
   ]
  },
  {
   "cell_type": "code",
   "execution_count": 28,
   "metadata": {
    "collapsed": false
   },
   "outputs": [
    {
     "name": "stdout",
     "output_type": "stream",
     "text": [
      "10 rows affected.\n"
     ]
    },
    {
     "data": {
      "text/html": [
       "<table>\n",
       "    <tr>\n",
       "        <th>beat</th>\n",
       "        <th>count</th>\n",
       "    </tr>\n",
       "    <tr>\n",
       "        <td>21I70</td>\n",
       "        <td>1</td>\n",
       "    </tr>\n",
       "    <tr>\n",
       "        <td>UH-3P</td>\n",
       "        <td>3</td>\n",
       "    </tr>\n",
       "    <tr>\n",
       "        <td>21I30</td>\n",
       "        <td>10</td>\n",
       "    </tr>\n",
       "    <tr>\n",
       "        <td>21I40</td>\n",
       "        <td>13</td>\n",
       "    </tr>\n",
       "    <tr>\n",
       "        <td>21I60</td>\n",
       "        <td>39</td>\n",
       "    </tr>\n",
       "    <tr>\n",
       "        <td>13D30</td>\n",
       "        <td>72</td>\n",
       "    </tr>\n",
       "    <tr>\n",
       "        <td>23J50</td>\n",
       "        <td>78</td>\n",
       "    </tr>\n",
       "    <tr>\n",
       "        <td>24C40</td>\n",
       "        <td>84</td>\n",
       "    </tr>\n",
       "    <tr>\n",
       "        <td>24C60</td>\n",
       "        <td>106</td>\n",
       "    </tr>\n",
       "    <tr>\n",
       "        <td>1A40</td>\n",
       "        <td>144</td>\n",
       "    </tr>\n",
       "</table>"
      ],
      "text/plain": [
       "[('21I70', 1),\n",
       " ('UH-3P', 3),\n",
       " ('21I30', 10),\n",
       " ('21I40', 13),\n",
       " ('21I60', 39),\n",
       " ('13D30', 72),\n",
       " ('23J50', 78),\n",
       " ('24C40', 84),\n",
       " ('24C60', 106),\n",
       " ('1A40', 144)]"
      ]
     },
     "execution_count": 28,
     "metadata": {},
     "output_type": "execute_result"
    }
   ],
   "source": [
    "%%sql\n",
    "SELECT DISTINCT BEAT, COUNT(*)\n",
    "FROM Crime\n",
    "GROUP BY BEAT\n",
    "ORDER BY COUNT(*)\n",
    "LIMIT 10;"
   ]
  },
  {
   "cell_type": "code",
   "execution_count": 29,
   "metadata": {
    "collapsed": false
   },
   "outputs": [
    {
     "name": "stdout",
     "output_type": "stream",
     "text": [
      "Location of Crime (Beat) Distribution\r\n"
     ]
    },
    {
     "data": {
      "image/png": "[encoded data removed]",
      "text/plain": [
       "<matplotlib.figure.Figure at 0x7f1f4deb7748>"
      ]
     },
     "metadata": {},
     "output_type": "display_data"
    }
   ],
   "source": [
    "%matplotlib inline \n",
    "\n",
    "q1_results = _\n",
    "q1_results.bar()\n",
    "!echo 'Location of Crime (Beat) Distribution'"
   ]
  },
  {
   "cell_type": "markdown",
   "metadata": {},
   "source": [
    "Now this may not make too much sense. This is how the city of Houston has divided up the city into subdivisions. But worry not, they have also provided a map of houston with the areas outlined. If you are really interested you can find the map here: http://www.houstontx.gov/police/pdfs/hpd_beat_map.pdf\n",
    "\n",
    "I tried to embedded it below for convenience but embedding html is creates is very error prone. So please access the link above for reference. \n",
    "\n",
    "Subdivision 23 and 24 are actually in south part of town. Although, subdivision 1 is in the north. This is why such exploration is much useful. I would have never thought northern Houston to be the most crime ridden area. (Please refer to the link for beat map)"
   ]
  },
  {
   "cell_type": "markdown",
   "metadata": {},
   "source": [
    "##### Question 3: What is the trend of total crime each month in 2016?"
   ]
  },
  {
   "cell_type": "code",
   "execution_count": 30,
   "metadata": {
    "collapsed": false
   },
   "outputs": [
    {
     "name": "stdout",
     "output_type": "stream",
     "text": [
      "1 rows affected.\n"
     ]
    },
    {
     "data": {
      "text/html": [
       "<table>\n",
       "    <tr>\n",
       "        <th>sum</th>\n",
       "    </tr>\n",
       "    <tr>\n",
       "        <td>10098</td>\n",
       "    </tr>\n",
       "</table>"
      ],
      "text/plain": [
       "[(10098,)]"
      ]
     },
     "execution_count": 30,
     "metadata": {},
     "output_type": "execute_result"
    }
   ],
   "source": [
    "%%sql\n",
    "SELECT SUM(NUMBER_OFFENSES)\n",
    "FROM Crime\n",
    "WHERE DATE BETWEEN '2016-01-01 00:00:00' AND '2016-01-31 00:00:00';"
   ]
  },
  {
   "cell_type": "markdown",
   "metadata": {},
   "source": [
    "##### Just in January itself we observe 10,098 reported offenses. \n",
    "In order to obtain a data frame with number of offenses of each month, we would need a month column. This is a limitation of our data set. Now, you could manually add that column to the data set. \n",
    "       --> Alternative ways may exist but I am not sure how to go about that. This is something to build upon for later explorations."
   ]
  },
  {
   "cell_type": "markdown",
   "metadata": {},
   "source": [
    "##### Question 4: What time of day (in hour) do we see spikes in crime? "
   ]
  },
  {
   "cell_type": "code",
   "execution_count": 31,
   "metadata": {
    "collapsed": false
   },
   "outputs": [
    {
     "name": "stdout",
     "output_type": "stream",
     "text": [
      "24 rows affected.\n"
     ]
    },
    {
     "data": {
      "text/html": [
       "<table>\n",
       "    <tr>\n",
       "        <th>hour</th>\n",
       "        <th>sum</th>\n",
       "    </tr>\n",
       "    <tr>\n",
       "        <td>15  </td>\n",
       "        <td>5512</td>\n",
       "    </tr>\n",
       "    <tr>\n",
       "        <td>16  </td>\n",
       "        <td>5349</td>\n",
       "    </tr>\n",
       "    <tr>\n",
       "        <td>14  </td>\n",
       "        <td>5184</td>\n",
       "    </tr>\n",
       "    <tr>\n",
       "        <td>13  </td>\n",
       "        <td>5009</td>\n",
       "    </tr>\n",
       "    <tr>\n",
       "        <td>11  </td>\n",
       "        <td>4913</td>\n",
       "    </tr>\n",
       "    <tr>\n",
       "        <td>17  </td>\n",
       "        <td>4913</td>\n",
       "    </tr>\n",
       "    <tr>\n",
       "        <td>10  </td>\n",
       "        <td>4859</td>\n",
       "    </tr>\n",
       "    <tr>\n",
       "        <td>9   </td>\n",
       "        <td>4854</td>\n",
       "    </tr>\n",
       "    <tr>\n",
       "        <td>12  </td>\n",
       "        <td>4794</td>\n",
       "    </tr>\n",
       "    <tr>\n",
       "        <td>8   </td>\n",
       "        <td>4468</td>\n",
       "    </tr>\n",
       "    <tr>\n",
       "        <td>18  </td>\n",
       "        <td>4373</td>\n",
       "    </tr>\n",
       "    <tr>\n",
       "        <td>19  </td>\n",
       "        <td>4027</td>\n",
       "    </tr>\n",
       "    <tr>\n",
       "        <td>20  </td>\n",
       "        <td>3896</td>\n",
       "    </tr>\n",
       "    <tr>\n",
       "        <td>7   </td>\n",
       "        <td>3824</td>\n",
       "    </tr>\n",
       "    <tr>\n",
       "        <td>21  </td>\n",
       "        <td>3618</td>\n",
       "    </tr>\n",
       "    <tr>\n",
       "        <td>22  </td>\n",
       "        <td>3343</td>\n",
       "    </tr>\n",
       "    <tr>\n",
       "        <td>23  </td>\n",
       "        <td>2956</td>\n",
       "    </tr>\n",
       "    <tr>\n",
       "        <td>6   </td>\n",
       "        <td>2488</td>\n",
       "    </tr>\n",
       "    <tr>\n",
       "        <td>0   </td>\n",
       "        <td>2256</td>\n",
       "    </tr>\n",
       "    <tr>\n",
       "        <td>1   </td>\n",
       "        <td>1836</td>\n",
       "    </tr>\n",
       "    <tr>\n",
       "        <td>2   </td>\n",
       "        <td>1831</td>\n",
       "    </tr>\n",
       "    <tr>\n",
       "        <td>5   </td>\n",
       "        <td>1510</td>\n",
       "    </tr>\n",
       "    <tr>\n",
       "        <td>3   </td>\n",
       "        <td>1453</td>\n",
       "    </tr>\n",
       "    <tr>\n",
       "        <td>4   </td>\n",
       "        <td>1346</td>\n",
       "    </tr>\n",
       "</table>"
      ],
      "text/plain": [
       "[('15  ', 5512),\n",
       " ('16  ', 5349),\n",
       " ('14  ', 5184),\n",
       " ('13  ', 5009),\n",
       " ('11  ', 4913),\n",
       " ('17  ', 4913),\n",
       " ('10  ', 4859),\n",
       " ('9   ', 4854),\n",
       " ('12  ', 4794),\n",
       " ('8   ', 4468),\n",
       " ('18  ', 4373),\n",
       " ('19  ', 4027),\n",
       " ('20  ', 3896),\n",
       " ('7   ', 3824),\n",
       " ('21  ', 3618),\n",
       " ('22  ', 3343),\n",
       " ('23  ', 2956),\n",
       " ('6   ', 2488),\n",
       " ('0   ', 2256),\n",
       " ('1   ', 1836),\n",
       " ('2   ', 1831),\n",
       " ('5   ', 1510),\n",
       " ('3   ', 1453),\n",
       " ('4   ', 1346)]"
      ]
     },
     "execution_count": 31,
     "metadata": {},
     "output_type": "execute_result"
    }
   ],
   "source": [
    "%%sql \n",
    "SELECT HOUR, SUM(NUMBER_OFFENSES)\n",
    "FROM Crime\n",
    "GROUP BY HOUR\n",
    "ORDER BY SUM(NUMBER_OFFENSES) DESC;"
   ]
  },
  {
   "cell_type": "code",
   "execution_count": 32,
   "metadata": {
    "collapsed": false
   },
   "outputs": [
    {
     "name": "stdout",
     "output_type": "stream",
     "text": [
      "Crime by Hour Distribution\r\n"
     ]
    },
    {
     "data": {
      "image/png": "[encoded data removed]",
      "text/plain": [
       "<matplotlib.figure.Figure at 0x7f1f4d806a58>"
      ]
     },
     "metadata": {},
     "output_type": "display_data"
    }
   ],
   "source": [
    "%matplotlib inline \n",
    "\n",
    "q1_results = _\n",
    "q1_results.bar()\n",
    "!echo 'Crime by Hour Distribution'"
   ]
  },
  {
   "cell_type": "markdown",
   "metadata": {},
   "source": [
    "##### Now, this is is really odd isn't it?\n",
    "Wouldn't you think most crimes happen at night in the dark? I know I would and I still do but the data shows quite the opposite. The top hours of crime are in the afternoon between the hours of 1:00 P.M - 4:00 P.M. at least that's the case in 2016.  \n",
    "\n",
    "My take is, this is when people are in commute or still at work and gives the violators perfect opportunity to commit crimes, such as theft, etc. Something else you could do if you are really interested is run a subsequent query on what sort of establishment do these crimes take place in. Let's go ahead and do that as well. "
   ]
  },
  {
   "cell_type": "code",
   "execution_count": 33,
   "metadata": {
    "collapsed": false
   },
   "outputs": [
    {
     "name": "stdout",
     "output_type": "stream",
     "text": [
      "10 rows affected.\n"
     ]
    },
    {
     "data": {
      "text/html": [
       "<table>\n",
       "    <tr>\n",
       "        <th>hour</th>\n",
       "        <th>premise</th>\n",
       "        <th>offense_type</th>\n",
       "        <th>number_offenses</th>\n",
       "    </tr>\n",
       "    <tr>\n",
       "        <td>14  </td>\n",
       "        <td>Multi-Plex Home (Duplex,Triplex Etc.)</td>\n",
       "        <td>Aggravated Assault</td>\n",
       "        <td>8</td>\n",
       "    </tr>\n",
       "    <tr>\n",
       "        <td>15  </td>\n",
       "        <td>Vehicle/Auto Sales/Lease/Auto Parts Store</td>\n",
       "        <td>Auto Theft</td>\n",
       "        <td>7</td>\n",
       "    </tr>\n",
       "    <tr>\n",
       "        <td>16  </td>\n",
       "        <td>Road, Street, or Sidewalk</td>\n",
       "        <td>Aggravated Assault</td>\n",
       "        <td>6</td>\n",
       "    </tr>\n",
       "    <tr>\n",
       "        <td>14  </td>\n",
       "        <td>Road, Street, or Sidewalk</td>\n",
       "        <td>Aggravated Assault</td>\n",
       "        <td>5</td>\n",
       "    </tr>\n",
       "    <tr>\n",
       "        <td>15  </td>\n",
       "        <td>Rental Storage Facility</td>\n",
       "        <td>Burglary</td>\n",
       "        <td>5</td>\n",
       "    </tr>\n",
       "    <tr>\n",
       "        <td>15  </td>\n",
       "        <td>Residence or House</td>\n",
       "        <td>Aggravated Assault</td>\n",
       "        <td>4</td>\n",
       "    </tr>\n",
       "    <tr>\n",
       "        <td>14  </td>\n",
       "        <td>Commercial Parking Lot or Garage</td>\n",
       "        <td>Auto Theft</td>\n",
       "        <td>4</td>\n",
       "    </tr>\n",
       "    <tr>\n",
       "        <td>15  </td>\n",
       "        <td>Residence or House</td>\n",
       "        <td>Aggravated Assault</td>\n",
       "        <td>4</td>\n",
       "    </tr>\n",
       "    <tr>\n",
       "        <td>16  </td>\n",
       "        <td>Road, Street, or Sidewalk</td>\n",
       "        <td>Aggravated Assault</td>\n",
       "        <td>4</td>\n",
       "    </tr>\n",
       "    <tr>\n",
       "        <td>15  </td>\n",
       "        <td>Road, Street, or Sidewalk</td>\n",
       "        <td>Aggravated Assault</td>\n",
       "        <td>4</td>\n",
       "    </tr>\n",
       "</table>"
      ],
      "text/plain": [
       "[('14  ', 'Multi-Plex Home (Duplex,Triplex Etc.)', 'Aggravated Assault', 8),\n",
       " ('15  ', 'Vehicle/Auto Sales/Lease/Auto Parts Store', 'Auto Theft', 7),\n",
       " ('16  ', 'Road, Street, or Sidewalk', 'Aggravated Assault', 6),\n",
       " ('14  ', 'Road, Street, or Sidewalk', 'Aggravated Assault', 5),\n",
       " ('15  ', 'Rental Storage Facility', 'Burglary', 5),\n",
       " ('15  ', 'Residence or House', 'Aggravated Assault', 4),\n",
       " ('14  ', 'Commercial Parking Lot or Garage', 'Auto Theft', 4),\n",
       " ('15  ', 'Residence or House', 'Aggravated Assault', 4),\n",
       " ('16  ', 'Road, Street, or Sidewalk', 'Aggravated Assault', 4),\n",
       " ('15  ', 'Road, Street, or Sidewalk', 'Aggravated Assault', 4)]"
      ]
     },
     "execution_count": 33,
     "metadata": {},
     "output_type": "execute_result"
    }
   ],
   "source": [
    "%%sql \n",
    "SELECT HOUR, PREMISE, OFFENSE_TYPE, NUMBER_OFFENSES\n",
    "FROM Crime\n",
    "WHERE HOUR BETWEEN '13' AND '16'\n",
    "ORDER BY NUMBER_OFFENSES DESC\n",
    "LIMIT 10;"
   ]
  },
  {
   "cell_type": "markdown",
   "metadata": {},
   "source": [
    "It's diffuclt to group hours to get the premises beacuase the premises are all different for each record throughout the year. Instead, we can take a look at the most common places crimes took place between the hours of 1:00 P.M. and 4:00 P.M. It's no surpirse that Multi-pleax Home is at the top. Generally, apartment buildings / garages are the most common places for minor crimes. "
   ]
  },
  {
   "cell_type": "markdown",
   "metadata": {},
   "source": [
    "##### Question 5: What's the worst street to be on a holiday - (Let's say 4th of July)?"
   ]
  },
  {
   "cell_type": "code",
   "execution_count": 34,
   "metadata": {
    "collapsed": false
   },
   "outputs": [
    {
     "name": "stdout",
     "output_type": "stream",
     "text": [
      "10 rows affected.\n"
     ]
    },
    {
     "data": {
      "text/html": [
       "<table>\n",
       "    <tr>\n",
       "        <th>streetname</th>\n",
       "        <th>date</th>\n",
       "        <th>offense_type</th>\n",
       "        <th>beat</th>\n",
       "        <th>number_offenses</th>\n",
       "    </tr>\n",
       "    <tr>\n",
       "        <td>LARK</td>\n",
       "        <td>2016-07-04 00:00:00</td>\n",
       "        <td>Aggravated Assault</td>\n",
       "        <td>1.50E+31</td>\n",
       "        <td>8</td>\n",
       "    </tr>\n",
       "    <tr>\n",
       "        <td>FLAMINGO</td>\n",
       "        <td>2016-07-04 00:00:00</td>\n",
       "        <td>Aggravated Assault</td>\n",
       "        <td>14D30</td>\n",
       "        <td>3</td>\n",
       "    </tr>\n",
       "    <tr>\n",
       "        <td>ROBIN</td>\n",
       "        <td>2016-07-04 00:00:00</td>\n",
       "        <td>Murder</td>\n",
       "        <td>1A20</td>\n",
       "        <td>3</td>\n",
       "    </tr>\n",
       "    <tr>\n",
       "        <td>NORTHLINE</td>\n",
       "        <td>2016-07-04 00:00:00</td>\n",
       "        <td>Aggravated Assault</td>\n",
       "        <td>6B10</td>\n",
       "        <td>2</td>\n",
       "    </tr>\n",
       "    <tr>\n",
       "        <td>FONDREN</td>\n",
       "        <td>2016-07-04 00:00:00</td>\n",
       "        <td>Theft</td>\n",
       "        <td>1.70E+21</td>\n",
       "        <td>2</td>\n",
       "    </tr>\n",
       "    <tr>\n",
       "        <td>PARKER</td>\n",
       "        <td>2016-07-04 00:00:00</td>\n",
       "        <td>Auto Theft</td>\n",
       "        <td>8C60</td>\n",
       "        <td>2</td>\n",
       "    </tr>\n",
       "    <tr>\n",
       "        <td>AVENUE J</td>\n",
       "        <td>2016-07-04 00:00:00</td>\n",
       "        <td>Aggravated Assault</td>\n",
       "        <td>11H10</td>\n",
       "        <td>1</td>\n",
       "    </tr>\n",
       "    <tr>\n",
       "        <td>DOGWOOD TREE</td>\n",
       "        <td>2016-07-04 00:00:00</td>\n",
       "        <td>Aggravated Assault</td>\n",
       "        <td>6B50</td>\n",
       "        <td>1</td>\n",
       "    </tr>\n",
       "    <tr>\n",
       "        <td>WHITE CAP</td>\n",
       "        <td>2016-07-04 00:00:00</td>\n",
       "        <td>Burglary</td>\n",
       "        <td>19G20</td>\n",
       "        <td>1</td>\n",
       "    </tr>\n",
       "    <tr>\n",
       "        <td>BRITTWAY</td>\n",
       "        <td>2016-07-04 00:00:00</td>\n",
       "        <td>Burglary</td>\n",
       "        <td>4F30</td>\n",
       "        <td>1</td>\n",
       "    </tr>\n",
       "</table>"
      ],
      "text/plain": [
       "[('LARK', datetime.datetime(2016, 7, 4, 0, 0), 'Aggravated Assault', '1.50E+31', 8),\n",
       " ('FLAMINGO', datetime.datetime(2016, 7, 4, 0, 0), 'Aggravated Assault', '14D30', 3),\n",
       " ('ROBIN', datetime.datetime(2016, 7, 4, 0, 0), 'Murder', '1A20', 3),\n",
       " ('NORTHLINE', datetime.datetime(2016, 7, 4, 0, 0), 'Aggravated Assault', '6B10', 2),\n",
       " ('FONDREN', datetime.datetime(2016, 7, 4, 0, 0), 'Theft', '1.70E+21', 2),\n",
       " ('PARKER', datetime.datetime(2016, 7, 4, 0, 0), 'Auto Theft', '8C60', 2),\n",
       " ('AVENUE J', datetime.datetime(2016, 7, 4, 0, 0), 'Aggravated Assault', '11H10', 1),\n",
       " ('DOGWOOD TREE', datetime.datetime(2016, 7, 4, 0, 0), 'Aggravated Assault', '6B50', 1),\n",
       " ('WHITE CAP', datetime.datetime(2016, 7, 4, 0, 0), 'Burglary', '19G20', 1),\n",
       " ('BRITTWAY', datetime.datetime(2016, 7, 4, 0, 0), 'Burglary', '4F30', 1)]"
      ]
     },
     "execution_count": 34,
     "metadata": {},
     "output_type": "execute_result"
    }
   ],
   "source": [
    "%%sql\n",
    "SELECT DISTINCT STREETNAME, DATE, OFFENSE_TYPE, BEAT, NUMBER_OFFENSES\n",
    "FROM Crime\n",
    "WHERE DATE BETWEEN '2016-07-04 00:00:00' AND '2016-07-04 23:59:59'\n",
    "ORDER BY NUMBER_OFFENSES DESC\n",
    "LIMIT 10;"
   ]
  },
  {
   "cell_type": "code",
   "execution_count": 35,
   "metadata": {
    "collapsed": false
   },
   "outputs": [
    {
     "name": "stdout",
     "output_type": "stream",
     "text": [
      "10 rows affected.\n"
     ]
    },
    {
     "data": {
      "text/html": [
       "<table>\n",
       "    <tr>\n",
       "        <th>streetname</th>\n",
       "        <th>number_offenses</th>\n",
       "    </tr>\n",
       "    <tr>\n",
       "        <td>LARK</td>\n",
       "        <td>8</td>\n",
       "    </tr>\n",
       "    <tr>\n",
       "        <td>ROBIN</td>\n",
       "        <td>3</td>\n",
       "    </tr>\n",
       "    <tr>\n",
       "        <td>FLAMINGO</td>\n",
       "        <td>3</td>\n",
       "    </tr>\n",
       "    <tr>\n",
       "        <td>PARKER</td>\n",
       "        <td>2</td>\n",
       "    </tr>\n",
       "    <tr>\n",
       "        <td>NORTHLINE</td>\n",
       "        <td>2</td>\n",
       "    </tr>\n",
       "    <tr>\n",
       "        <td>FONDREN</td>\n",
       "        <td>2</td>\n",
       "    </tr>\n",
       "    <tr>\n",
       "        <td>TANNER PARK</td>\n",
       "        <td>1</td>\n",
       "    </tr>\n",
       "    <tr>\n",
       "        <td>SMALLWOOD</td>\n",
       "        <td>1</td>\n",
       "    </tr>\n",
       "    <tr>\n",
       "        <td>WESTMEAD</td>\n",
       "        <td>1</td>\n",
       "    </tr>\n",
       "    <tr>\n",
       "        <td>COLLINGSWORTH</td>\n",
       "        <td>1</td>\n",
       "    </tr>\n",
       "</table>"
      ],
      "text/plain": [
       "[('LARK', 8),\n",
       " ('ROBIN', 3),\n",
       " ('FLAMINGO', 3),\n",
       " ('PARKER', 2),\n",
       " ('NORTHLINE', 2),\n",
       " ('FONDREN', 2),\n",
       " ('TANNER PARK', 1),\n",
       " ('SMALLWOOD', 1),\n",
       " ('WESTMEAD', 1),\n",
       " ('COLLINGSWORTH', 1)]"
      ]
     },
     "execution_count": 35,
     "metadata": {},
     "output_type": "execute_result"
    }
   ],
   "source": [
    "%%sql\n",
    "SELECT DISTINCT STREETNAME, NUMBER_OFFENSES\n",
    "FROM Crime\n",
    "WHERE DATE BETWEEN '2016-07-04 00:00:00' AND '2016-07-04 23:59:59'\n",
    "ORDER BY NUMBER_OFFENSES DESC\n",
    "LIMIT 10;"
   ]
  },
  {
   "cell_type": "code",
   "execution_count": 36,
   "metadata": {
    "collapsed": false
   },
   "outputs": [
    {
     "name": "stdout",
     "output_type": "stream",
     "text": [
      "July 4th Crime Location Distribution\r\n"
     ]
    },
    {
     "data": {
      "image/png": "[encoded data removed]",
      "text/plain": [
       "<matplotlib.figure.Figure at 0x7f1f4dee9940>"
      ]
     },
     "metadata": {},
     "output_type": "display_data"
    }
   ],
   "source": [
    "%matplotlib inline \n",
    "\n",
    "q1_results = _\n",
    "q1_results.bar()\n",
    "!echo 'July 4th Crime Location Distribution'"
   ]
  },
  {
   "cell_type": "markdown",
   "metadata": {
    "collapsed": true
   },
   "source": [
    "Well, if I am back in Houston during the 4th of July weekend, I will know what areas to avoid, most certainly, LARK ST. \n",
    "We can run similar queries on other holidays and observe. Perhaps we can see a pattern. That may be something for another project. Let's just run 1 more query and see if there is any overlap. "
   ]
  },
  {
   "cell_type": "code",
   "execution_count": 37,
   "metadata": {
    "collapsed": false
   },
   "outputs": [
    {
     "name": "stdout",
     "output_type": "stream",
     "text": [
      "10 rows affected.\n"
     ]
    },
    {
     "data": {
      "text/html": [
       "<table>\n",
       "    <tr>\n",
       "        <th>streetname</th>\n",
       "        <th>number_offenses</th>\n",
       "    </tr>\n",
       "    <tr>\n",
       "        <td>LARK</td>\n",
       "        <td>8</td>\n",
       "    </tr>\n",
       "    <tr>\n",
       "        <td>JEANETTA STRE</td>\n",
       "        <td>6</td>\n",
       "    </tr>\n",
       "    <tr>\n",
       "        <td>RECORD</td>\n",
       "        <td>6</td>\n",
       "    </tr>\n",
       "    <tr>\n",
       "        <td>FONDREN</td>\n",
       "        <td>6</td>\n",
       "    </tr>\n",
       "    <tr>\n",
       "        <td>FULTON</td>\n",
       "        <td>5</td>\n",
       "    </tr>\n",
       "    <tr>\n",
       "        <td>GRIGGS</td>\n",
       "        <td>5</td>\n",
       "    </tr>\n",
       "    <tr>\n",
       "        <td>COLLEGE</td>\n",
       "        <td>5</td>\n",
       "    </tr>\n",
       "    <tr>\n",
       "        <td>IDAHO</td>\n",
       "        <td>5</td>\n",
       "    </tr>\n",
       "    <tr>\n",
       "        <td>PARK VIEW</td>\n",
       "        <td>5</td>\n",
       "    </tr>\n",
       "    <tr>\n",
       "        <td>LOOP</td>\n",
       "        <td>5</td>\n",
       "    </tr>\n",
       "</table>"
      ],
      "text/plain": [
       "[('LARK', 8),\n",
       " ('JEANETTA STRE', 6),\n",
       " ('RECORD', 6),\n",
       " ('FONDREN', 6),\n",
       " ('FULTON', 5),\n",
       " ('GRIGGS', 5),\n",
       " ('COLLEGE', 5),\n",
       " ('IDAHO', 5),\n",
       " ('PARK VIEW', 5),\n",
       " ('LOOP', 5)]"
      ]
     },
     "execution_count": 37,
     "metadata": {},
     "output_type": "execute_result"
    }
   ],
   "source": [
    "%%sql\n",
    "SELECT DISTINCT STREETNAME, NUMBER_OFFENSES\n",
    "FROM Crime\n",
    "WHERE DATE BETWEEN '2016-01-18 00:00:00' AND '2016-07-18 23:59:59'\n",
    "ORDER BY NUMBER_OFFENSES DESC\n",
    "LIMIT 10;"
   ]
  },
  {
   "cell_type": "code",
   "execution_count": 38,
   "metadata": {
    "collapsed": false
   },
   "outputs": [
    {
     "name": "stdout",
     "output_type": "stream",
     "text": [
      "MLK Day Crime Location Distribution\r\n"
     ]
    },
    {
     "data": {
      "image/png": "[encoded data removed]",
      "text/plain": [
       "<matplotlib.figure.Figure at 0x7f1f4deb64e0>"
      ]
     },
     "metadata": {},
     "output_type": "display_data"
    }
   ],
   "source": [
    "%matplotlib inline \n",
    "\n",
    "q1_results = _\n",
    "q1_results.bar()\n",
    "!echo 'MLK Day Crime Location Distribution'"
   ]
  },
  {
   "cell_type": "markdown",
   "metadata": {},
   "source": [
    "And there is an overlap (LARK & FONDREN). Lark ST. tops the list again! \n",
    "##### AVOID LARK AT ALL COST!"
   ]
  },
  {
   "cell_type": "markdown",
   "metadata": {},
   "source": [
    "##### Where are subqueries?\n",
    "Let's explore what type of premises sees the most auto-theft in beat 24C60, which is the 2nd most common crime beat in Houston. "
   ]
  },
  {
   "cell_type": "code",
   "execution_count": 39,
   "metadata": {
    "collapsed": false
   },
   "outputs": [
    {
     "name": "stdout",
     "output_type": "stream",
     "text": [
      "10 rows affected.\n"
     ]
    },
    {
     "data": {
      "text/html": [
       "<table>\n",
       "    <tr>\n",
       "        <th>premise</th>\n",
       "        <th>count</th>\n",
       "    </tr>\n",
       "    <tr>\n",
       "        <td>Residence or House</td>\n",
       "        <td>40</td>\n",
       "    </tr>\n",
       "    <tr>\n",
       "        <td>Driveway</td>\n",
       "        <td>15</td>\n",
       "    </tr>\n",
       "    <tr>\n",
       "        <td>Road, Street, or Sidewalk</td>\n",
       "        <td>9</td>\n",
       "    </tr>\n",
       "    <tr>\n",
       "        <td>Grocery Store or Supermarket Parking Lot</td>\n",
       "        <td>5</td>\n",
       "    </tr>\n",
       "    <tr>\n",
       "        <td>Construction Site</td>\n",
       "        <td>5</td>\n",
       "    </tr>\n",
       "    <tr>\n",
       "        <td>Other, Unknown, or Not Listed</td>\n",
       "        <td>4</td>\n",
       "    </tr>\n",
       "    <tr>\n",
       "        <td>None</td>\n",
       "        <td>4</td>\n",
       "    </tr>\n",
       "    <tr>\n",
       "        <td>Grocery Store or Supermarket</td>\n",
       "        <td>4</td>\n",
       "    </tr>\n",
       "    <tr>\n",
       "        <td>Vacant Single Occ Resd(House,Townhs,Dplex)</td>\n",
       "        <td>3</td>\n",
       "    </tr>\n",
       "    <tr>\n",
       "        <td>Miscellaneous Business (Non-Specific)</td>\n",
       "        <td>3</td>\n",
       "    </tr>\n",
       "</table>"
      ],
      "text/plain": [
       "[('Residence or House', 40),\n",
       " ('Driveway', 15),\n",
       " ('Road, Street, or Sidewalk', 9),\n",
       " ('Grocery Store or Supermarket Parking Lot', 5),\n",
       " ('Construction Site', 5),\n",
       " ('Other, Unknown, or Not Listed', 4),\n",
       " (None, 4),\n",
       " ('Grocery Store or Supermarket', 4),\n",
       " ('Vacant Single Occ Resd(House,Townhs,Dplex)', 3),\n",
       " ('Miscellaneous Business (Non-Specific)', 3)]"
      ]
     },
     "execution_count": 39,
     "metadata": {},
     "output_type": "execute_result"
    }
   ],
   "source": [
    "%%sql\n",
    "SELECT PREMISE, COUNT (*)\n",
    "FROM Crime\n",
    "WHERE HOUR in(\n",
    "    SELECT HOUR\n",
    "    FROM Crime\n",
    "    WHERE OFFENSE_TYPE = 'Auto Theft'\n",
    "    )\n",
    "    AND BEAT = '24C60'\n",
    "GROUP BY PREMISE\n",
    "ORDER BY COUNT(*) DESC\n",
    "LIMIT 10;"
   ]
  },
  {
   "cell_type": "code",
   "execution_count": 40,
   "metadata": {
    "collapsed": false
   },
   "outputs": [
    {
     "name": "stdout",
     "output_type": "stream",
     "text": [
      "Auto Theft Premise Distribution\r\n"
     ]
    },
    {
     "data": {
      "image/png": "[encoded data removed]",
      "text/plain": [
       "<matplotlib.figure.Figure at 0x7f1f4d5eda20>"
      ]
     },
     "metadata": {},
     "output_type": "display_data"
    }
   ],
   "source": [
    "%matplotlib inline \n",
    "\n",
    "q1_results = _\n",
    "q1_results.bar()\n",
    "!echo 'Auto Theft Premise Distribution'"
   ]
  },
  {
   "cell_type": "markdown",
   "metadata": {},
   "source": [
    "##### Updating NULL values\n",
    "We only have 1 column that has any NULL values (Premise). You can find this in part 1 under csvstat commands. Before we set up our star schema, let's update those null values."
   ]
  },
  {
   "cell_type": "code",
   "execution_count": 41,
   "metadata": {
    "collapsed": false
   },
   "outputs": [
    {
     "name": "stdout",
     "output_type": "stream",
     "text": [
      "942 rows affected.\n"
     ]
    },
    {
     "data": {
      "text/plain": [
       "[]"
      ]
     },
     "execution_count": 41,
     "metadata": {},
     "output_type": "execute_result"
    }
   ],
   "source": [
    "%%sql \n",
    "UPDATE Crime set PREMISE = 'n/a' WHERE PREMISE is null; "
   ]
  },
  {
   "cell_type": "markdown",
   "metadata": {},
   "source": [
    "# Part 3 - (Setting up STAR SCHEMA)"
   ]
  },
  {
   "cell_type": "markdown",
   "metadata": {},
   "source": [
    "That was fun and insightful. Even having lived there, I certainly learned a lot more theough this exploration. We need to make this more efficient, however. That's why we now move to star schema. Here we will make a schema. \n",
    "\n",
    "Why? \n",
    "\n",
    "1.Simpler queries\n",
    "\n",
    "2.Faster performance (especially when we have a massive amount of data to sort through)"
   ]
  },
  {
   "cell_type": "markdown",
   "metadata": {},
   "source": [
    "##### So how does our STAR SCHEMA look like?\n",
    "Our Methodology:\n",
    "\n",
    "> Our Fact table doesn't have any measurable content and that's mainly becuase we don't have any meaningful measurable column (eg: sales, profit, etc.). Instead, we have keys, which act as a faster pathway to accessing the data. Using keys we can measure any dimension. \n",
    "    \n",
    "> We separated out the dimensions based on type. We have a few columns referring to address, which became the location dimension; few columns for date / time, which became the time dimension; and one for type of offense, which became the offense dimension. \n",
    "    \n",
    "*See our illustration below"
   ]
  },
  {
   "cell_type": "markdown",
   "metadata": {},
   "source": [
    "![StarSchema](https://raw.githubusercontent.com/bosea3000/Project-02/master/StarSchema.jpeg)"
   ]
  },
  {
   "cell_type": "code",
   "execution_count": 42,
   "metadata": {
    "collapsed": false
   },
   "outputs": [
    {
     "name": "stdout",
     "output_type": "stream",
     "text": [
      "Done.\n",
      "Done.\n"
     ]
    },
    {
     "data": {
      "text/plain": [
       "[]"
      ]
     },
     "execution_count": 42,
     "metadata": {},
     "output_type": "execute_result"
    }
   ],
   "source": [
    "%%sql DROP TABLE IF EXISTS time;\n",
    "CREATE TABLE time (\n",
    "    date TIMESTAMP,\n",
    "    hour CHAR(4)\n",
    "    )"
   ]
  },
  {
   "cell_type": "markdown",
   "metadata": {},
   "source": [
    "##### Setting up Dimension table - Time"
   ]
  },
  {
   "cell_type": "code",
   "execution_count": 43,
   "metadata": {
    "collapsed": true
   },
   "outputs": [],
   "source": [
    "!csvcut -c1,2 crimeData.csv > time.csv"
   ]
  },
  {
   "cell_type": "code",
   "execution_count": 44,
   "metadata": {
    "collapsed": false
   },
   "outputs": [
    {
     "name": "stdout",
     "output_type": "stream",
     "text": [
      "  1: Date\r\n",
      "  2: Hour\r\n"
     ]
    }
   ],
   "source": [
    "!csvcut -n time.csv"
   ]
  },
  {
   "cell_type": "code",
   "execution_count": 45,
   "metadata": {
    "collapsed": false
   },
   "outputs": [
    {
     "name": "stdout",
     "output_type": "stream",
     "text": [
      "86769 rows affected.\n"
     ]
    },
    {
     "data": {
      "text/plain": [
       "[]"
      ]
     },
     "execution_count": 45,
     "metadata": {},
     "output_type": "execute_result"
    }
   ],
   "source": [
    "%%sql\n",
    "COPY time FROM '/home/jovyan/work/time.csv'\n",
    "CSV\n",
    "HEADER\n",
    "QUOTE '\"'\n",
    "DELIMITER ',';"
   ]
  },
  {
   "cell_type": "code",
   "execution_count": 46,
   "metadata": {
    "collapsed": false
   },
   "outputs": [
    {
     "name": "stdout",
     "output_type": "stream",
     "text": [
      "5 rows affected.\n"
     ]
    },
    {
     "data": {
      "text/html": [
       "<table>\n",
       "    <tr>\n",
       "        <th>date</th>\n",
       "        <th>hour</th>\n",
       "    </tr>\n",
       "    <tr>\n",
       "        <td>2016-01-01 00:00:00</td>\n",
       "        <td>10  </td>\n",
       "    </tr>\n",
       "    <tr>\n",
       "        <td>2016-01-01 00:00:00</td>\n",
       "        <td>23  </td>\n",
       "    </tr>\n",
       "    <tr>\n",
       "        <td>2016-01-01 00:00:00</td>\n",
       "        <td>18  </td>\n",
       "    </tr>\n",
       "    <tr>\n",
       "        <td>2016-01-01 00:00:00</td>\n",
       "        <td>18  </td>\n",
       "    </tr>\n",
       "    <tr>\n",
       "        <td>2016-01-01 00:00:00</td>\n",
       "        <td>2   </td>\n",
       "    </tr>\n",
       "</table>"
      ],
      "text/plain": [
       "[(datetime.datetime(2016, 1, 1, 0, 0), '10  '),\n",
       " (datetime.datetime(2016, 1, 1, 0, 0), '23  '),\n",
       " (datetime.datetime(2016, 1, 1, 0, 0), '18  '),\n",
       " (datetime.datetime(2016, 1, 1, 0, 0), '18  '),\n",
       " (datetime.datetime(2016, 1, 1, 0, 0), '2   ')]"
      ]
     },
     "execution_count": 46,
     "metadata": {},
     "output_type": "execute_result"
    }
   ],
   "source": [
    "%%sql\n",
    "SELECT * FROM time\n",
    "LIMIT 5;"
   ]
  },
  {
   "cell_type": "markdown",
   "metadata": {},
   "source": [
    "##### Our original data source does not contain unique values for each row. So we must alter the table to add an additional column of unique keys. "
   ]
  },
  {
   "cell_type": "code",
   "execution_count": 47,
   "metadata": {
    "collapsed": false
   },
   "outputs": [
    {
     "name": "stdout",
     "output_type": "stream",
     "text": [
      "Done.\n"
     ]
    },
    {
     "data": {
      "text/plain": [
       "[]"
      ]
     },
     "execution_count": 47,
     "metadata": {},
     "output_type": "execute_result"
    }
   ],
   "source": [
    "%%sql \n",
    "ALTER TABLE time\n",
    "ADD COLUMN time_key SERIAL PRIMARY\n",
    "KEY;"
   ]
  },
  {
   "cell_type": "markdown",
   "metadata": {},
   "source": [
    "##### Sanity check 1.0"
   ]
  },
  {
   "cell_type": "code",
   "execution_count": 48,
   "metadata": {
    "collapsed": false
   },
   "outputs": [
    {
     "name": "stdout",
     "output_type": "stream",
     "text": [
      "5 rows affected.\n"
     ]
    },
    {
     "data": {
      "text/html": [
       "<table>\n",
       "    <tr>\n",
       "        <th>date</th>\n",
       "        <th>hour</th>\n",
       "        <th>time_key</th>\n",
       "    </tr>\n",
       "    <tr>\n",
       "        <td>2016-01-01 00:00:00</td>\n",
       "        <td>10  </td>\n",
       "        <td>1</td>\n",
       "    </tr>\n",
       "    <tr>\n",
       "        <td>2016-01-01 00:00:00</td>\n",
       "        <td>23  </td>\n",
       "        <td>2</td>\n",
       "    </tr>\n",
       "    <tr>\n",
       "        <td>2016-01-01 00:00:00</td>\n",
       "        <td>18  </td>\n",
       "        <td>3</td>\n",
       "    </tr>\n",
       "    <tr>\n",
       "        <td>2016-01-01 00:00:00</td>\n",
       "        <td>18  </td>\n",
       "        <td>4</td>\n",
       "    </tr>\n",
       "    <tr>\n",
       "        <td>2016-01-01 00:00:00</td>\n",
       "        <td>2   </td>\n",
       "        <td>5</td>\n",
       "    </tr>\n",
       "</table>"
      ],
      "text/plain": [
       "[(datetime.datetime(2016, 1, 1, 0, 0), '10  ', 1),\n",
       " (datetime.datetime(2016, 1, 1, 0, 0), '23  ', 2),\n",
       " (datetime.datetime(2016, 1, 1, 0, 0), '18  ', 3),\n",
       " (datetime.datetime(2016, 1, 1, 0, 0), '18  ', 4),\n",
       " (datetime.datetime(2016, 1, 1, 0, 0), '2   ', 5)]"
      ]
     },
     "execution_count": 48,
     "metadata": {},
     "output_type": "execute_result"
    }
   ],
   "source": [
    "%%sql\n",
    "SELECT * FROM time\n",
    "LIMIT 5;"
   ]
  },
  {
   "cell_type": "markdown",
   "metadata": {},
   "source": [
    "##### Setting up Dimension table - Offense"
   ]
  },
  {
   "cell_type": "code",
   "execution_count": 49,
   "metadata": {
    "collapsed": false
   },
   "outputs": [
    {
     "name": "stdout",
     "output_type": "stream",
     "text": [
      "Done.\n",
      "Done.\n"
     ]
    },
    {
     "data": {
      "text/plain": [
       "[]"
      ]
     },
     "execution_count": 49,
     "metadata": {},
     "output_type": "execute_result"
    }
   ],
   "source": [
    "%%sql DROP TABLE IF EXISTS offense;\n",
    "CREATE TABLE offense (\n",
    "    offense_type VARCHAR(42),\n",
    "    number_offenses INT\n",
    "    )"
   ]
  },
  {
   "cell_type": "code",
   "execution_count": 50,
   "metadata": {
    "collapsed": true
   },
   "outputs": [],
   "source": [
    "!csvcut -c3,10 crimeData.csv > offense.csv"
   ]
  },
  {
   "cell_type": "code",
   "execution_count": 51,
   "metadata": {
    "collapsed": false
   },
   "outputs": [
    {
     "name": "stdout",
     "output_type": "stream",
     "text": [
      "86769 rows affected.\n"
     ]
    },
    {
     "data": {
      "text/plain": [
       "[]"
      ]
     },
     "execution_count": 51,
     "metadata": {},
     "output_type": "execute_result"
    }
   ],
   "source": [
    "%%sql\n",
    "COPY offense FROM '/home/jovyan/work/offense.csv'\n",
    "CSV\n",
    "HEADER\n",
    "QUOTE '\"'\n",
    "DELIMITER ',';"
   ]
  },
  {
   "cell_type": "markdown",
   "metadata": {},
   "source": [
    "##### Our original data source does not contain unique values for each row. So we must alter the table to add an additional column of unique keys. "
   ]
  },
  {
   "cell_type": "code",
   "execution_count": 52,
   "metadata": {
    "collapsed": false
   },
   "outputs": [
    {
     "name": "stdout",
     "output_type": "stream",
     "text": [
      "Done.\n"
     ]
    },
    {
     "data": {
      "text/plain": [
       "[]"
      ]
     },
     "execution_count": 52,
     "metadata": {},
     "output_type": "execute_result"
    }
   ],
   "source": [
    "%%sql \n",
    "ALTER TABLE offense\n",
    "ADD COLUMN offense_key SERIAL PRIMARY\n",
    "KEY;"
   ]
  },
  {
   "cell_type": "markdown",
   "metadata": {},
   "source": [
    "##### Quick sanity check 2.0"
   ]
  },
  {
   "cell_type": "code",
   "execution_count": 53,
   "metadata": {
    "collapsed": false
   },
   "outputs": [
    {
     "name": "stdout",
     "output_type": "stream",
     "text": [
      "5 rows affected.\n"
     ]
    },
    {
     "data": {
      "text/html": [
       "<table>\n",
       "    <tr>\n",
       "        <th>offense_type</th>\n",
       "        <th>number_offenses</th>\n",
       "        <th>offense_key</th>\n",
       "    </tr>\n",
       "    <tr>\n",
       "        <td>Burglary</td>\n",
       "        <td>1</td>\n",
       "        <td>1</td>\n",
       "    </tr>\n",
       "    <tr>\n",
       "        <td>Theft</td>\n",
       "        <td>1</td>\n",
       "        <td>2</td>\n",
       "    </tr>\n",
       "    <tr>\n",
       "        <td>Aggravated Assault</td>\n",
       "        <td>2</td>\n",
       "        <td>3</td>\n",
       "    </tr>\n",
       "    <tr>\n",
       "        <td>Auto Theft</td>\n",
       "        <td>1</td>\n",
       "        <td>4</td>\n",
       "    </tr>\n",
       "    <tr>\n",
       "        <td>Burglary</td>\n",
       "        <td>1</td>\n",
       "        <td>5</td>\n",
       "    </tr>\n",
       "</table>"
      ],
      "text/plain": [
       "[('Burglary', 1, 1),\n",
       " ('Theft', 1, 2),\n",
       " ('Aggravated Assault', 2, 3),\n",
       " ('Auto Theft', 1, 4),\n",
       " ('Burglary', 1, 5)]"
      ]
     },
     "execution_count": 53,
     "metadata": {},
     "output_type": "execute_result"
    }
   ],
   "source": [
    "%%sql\n",
    "SELECT * FROM offense\n",
    "LIMIT 5;"
   ]
  },
  {
   "cell_type": "markdown",
   "metadata": {},
   "source": [
    "##### Setting up Dimension table - Location"
   ]
  },
  {
   "cell_type": "code",
   "execution_count": 54,
   "metadata": {
    "collapsed": false
   },
   "outputs": [
    {
     "name": "stdout",
     "output_type": "stream",
     "text": [
      "Done.\n",
      "Done.\n"
     ]
    },
    {
     "data": {
      "text/plain": [
       "[]"
      ]
     },
     "execution_count": 54,
     "metadata": {},
     "output_type": "execute_result"
    }
   ],
   "source": [
    "%%sql DROP TABLE IF EXISTS location;\n",
    "CREATE TABLE location (\n",
    "    Beat VARCHAR(20),\n",
    "    Premise VARCHAR(64),\n",
    "    BlockRange VARCHAR(20),\n",
    "    StreetName VARCHAR(64)\n",
    "    )"
   ]
  },
  {
   "cell_type": "code",
   "execution_count": 55,
   "metadata": {
    "collapsed": false
   },
   "outputs": [],
   "source": [
    "!csvcut -c4,5,6,7 crimeData.csv > location.csv"
   ]
  },
  {
   "cell_type": "code",
   "execution_count": 56,
   "metadata": {
    "collapsed": false
   },
   "outputs": [
    {
     "name": "stdout",
     "output_type": "stream",
     "text": [
      "86769 rows affected.\n"
     ]
    },
    {
     "data": {
      "text/plain": [
       "[]"
      ]
     },
     "execution_count": 56,
     "metadata": {},
     "output_type": "execute_result"
    }
   ],
   "source": [
    "%%sql\n",
    "COPY location FROM '/home/jovyan/work/location.csv'\n",
    "CSV\n",
    "HEADER\n",
    "QUOTE '\"'\n",
    "DELIMITER ',';"
   ]
  },
  {
   "cell_type": "markdown",
   "metadata": {},
   "source": [
    "##### Our original data source does not contain unique values for each row. So we must alter the table to add an additional column of unique keys. "
   ]
  },
  {
   "cell_type": "code",
   "execution_count": 57,
   "metadata": {
    "collapsed": false
   },
   "outputs": [
    {
     "name": "stdout",
     "output_type": "stream",
     "text": [
      "Done.\n"
     ]
    },
    {
     "data": {
      "text/plain": [
       "[]"
      ]
     },
     "execution_count": 57,
     "metadata": {},
     "output_type": "execute_result"
    }
   ],
   "source": [
    "%%sql \n",
    "ALTER TABLE location\n",
    "ADD COLUMN location_key SERIAL PRIMARY\n",
    "KEY;"
   ]
  },
  {
   "cell_type": "markdown",
   "metadata": {},
   "source": [
    "##### Quick sanity check 3.0"
   ]
  },
  {
   "cell_type": "code",
   "execution_count": 58,
   "metadata": {
    "collapsed": false
   },
   "outputs": [
    {
     "name": "stdout",
     "output_type": "stream",
     "text": [
      "5 rows affected.\n"
     ]
    },
    {
     "data": {
      "text/html": [
       "<table>\n",
       "    <tr>\n",
       "        <th>beat</th>\n",
       "        <th>premise</th>\n",
       "        <th>blockrange</th>\n",
       "        <th>streetname</th>\n",
       "        <th>location_key</th>\n",
       "    </tr>\n",
       "    <tr>\n",
       "        <td>10H10</td>\n",
       "        <td>Restaurant or Cafeteria</td>\n",
       "        <td>300-399</td>\n",
       "        <td>LOCKWOOD</td>\n",
       "        <td>1</td>\n",
       "    </tr>\n",
       "    <tr>\n",
       "        <td>10H30</td>\n",
       "        <td>Road, Street, or Sidewalk</td>\n",
       "        <td>1000-1099</td>\n",
       "        <td>BASTROP</td>\n",
       "        <td>2</td>\n",
       "    </tr>\n",
       "    <tr>\n",
       "        <td>10H40</td>\n",
       "        <td>Road, Street, or Sidewalk</td>\n",
       "        <td>1700-1799</td>\n",
       "        <td>ELGIN</td>\n",
       "        <td>3</td>\n",
       "    </tr>\n",
       "    <tr>\n",
       "        <td>10H40</td>\n",
       "        <td>Other Parking Lot</td>\n",
       "        <td>3000-3099</td>\n",
       "        <td>TRAVIS</td>\n",
       "        <td>4</td>\n",
       "    </tr>\n",
       "    <tr>\n",
       "        <td>10H40</td>\n",
       "        <td>Grocery Store or Supermarket</td>\n",
       "        <td>4200-4299</td>\n",
       "        <td>SAN JACINTO</td>\n",
       "        <td>5</td>\n",
       "    </tr>\n",
       "</table>"
      ],
      "text/plain": [
       "[('10H10', 'Restaurant or Cafeteria', '300-399', 'LOCKWOOD', 1),\n",
       " ('10H30', 'Road, Street, or Sidewalk', '1000-1099', 'BASTROP', 2),\n",
       " ('10H40', 'Road, Street, or Sidewalk', '1700-1799', 'ELGIN', 3),\n",
       " ('10H40', 'Other Parking Lot', '3000-3099', 'TRAVIS', 4),\n",
       " ('10H40', 'Grocery Store or Supermarket', '4200-4299', 'SAN JACINTO', 5)]"
      ]
     },
     "execution_count": 58,
     "metadata": {},
     "output_type": "execute_result"
    }
   ],
   "source": [
    "%%sql\n",
    "SELECT * FROM location\n",
    "LIMIT 5;"
   ]
  },
  {
   "cell_type": "markdown",
   "metadata": {},
   "source": [
    "##### Setting up Fact table - Facts"
   ]
  },
  {
   "cell_type": "code",
   "execution_count": 59,
   "metadata": {
    "collapsed": false
   },
   "outputs": [
    {
     "name": "stdout",
     "output_type": "stream",
     "text": [
      "Done.\n",
      "Done.\n"
     ]
    },
    {
     "data": {
      "text/plain": [
       "[]"
      ]
     },
     "execution_count": 59,
     "metadata": {},
     "output_type": "execute_result"
    }
   ],
   "source": [
    "%%sql\n",
    "DROP TABLE IF EXISTS facts;\n",
    "CREATE TABLE facts (\n",
    "    Crime_id SERIAL,\n",
    "    offense_key SERIAL,\n",
    "    time_key SERIAL,\n",
    "    location_key SERIAL,\n",
    "    FOREIGN KEY (offense_key) REFERENCES offense(offense_key),\n",
    "    FOREIGN KEY (time_key) REFERENCES time(time_key),\n",
    "    FOREIGN KEY (location_key) REFERENCES location(location_key)\n",
    "    )"
   ]
  },
  {
   "cell_type": "code",
   "execution_count": 60,
   "metadata": {
    "collapsed": false
   },
   "outputs": [
    {
     "name": "stdout",
     "output_type": "stream",
     "text": [
      "86769 rows affected.\n"
     ]
    },
    {
     "data": {
      "text/plain": [
       "[]"
      ]
     },
     "execution_count": 60,
     "metadata": {},
     "output_type": "execute_result"
    }
   ],
   "source": [
    "%%sql INSERT INTO facts (Crime_id)\n",
    "SELECT Crime_id\n",
    "FROM Crime;"
   ]
  },
  {
   "cell_type": "markdown",
   "metadata": {},
   "source": [
    "##### Final check"
   ]
  },
  {
   "cell_type": "code",
   "execution_count": 61,
   "metadata": {
    "collapsed": false
   },
   "outputs": [
    {
     "name": "stdout",
     "output_type": "stream",
     "text": [
      "3 rows affected.\n"
     ]
    },
    {
     "data": {
      "text/html": [
       "<table>\n",
       "    <tr>\n",
       "        <th>crime_id</th>\n",
       "        <th>offense_key</th>\n",
       "        <th>time_key</th>\n",
       "        <th>location_key</th>\n",
       "    </tr>\n",
       "    <tr>\n",
       "        <td>1</td>\n",
       "        <td>1</td>\n",
       "        <td>1</td>\n",
       "        <td>1</td>\n",
       "    </tr>\n",
       "    <tr>\n",
       "        <td>2</td>\n",
       "        <td>2</td>\n",
       "        <td>2</td>\n",
       "        <td>2</td>\n",
       "    </tr>\n",
       "    <tr>\n",
       "        <td>3</td>\n",
       "        <td>3</td>\n",
       "        <td>3</td>\n",
       "        <td>3</td>\n",
       "    </tr>\n",
       "</table>"
      ],
      "text/plain": [
       "[(1, 1, 1, 1), (2, 2, 2, 2), (3, 3, 3, 3)]"
      ]
     },
     "execution_count": 61,
     "metadata": {},
     "output_type": "execute_result"
    }
   ],
   "source": [
    "%%sql\n",
    "SELECT * FROM facts\n",
    "LIMIT 3;"
   ]
  },
  {
   "cell_type": "markdown",
   "metadata": {},
   "source": [
    "## Problem 4"
   ]
  },
  {
   "cell_type": "markdown",
   "metadata": {},
   "source": [
    "Let's take advantage of our newly acquired star schema and do some analysis!"
   ]
  },
  {
   "cell_type": "code",
   "execution_count": 62,
   "metadata": {
    "collapsed": false
   },
   "outputs": [
    {
     "name": "stdout",
     "output_type": "stream",
     "text": [
      "8 rows affected.\n"
     ]
    },
    {
     "data": {
      "text/html": [
       "<table>\n",
       "    <tr>\n",
       "        <th>offense_type</th>\n",
       "        <th>count</th>\n",
       "    </tr>\n",
       "    <tr>\n",
       "        <td>1</td>\n",
       "        <td>2</td>\n",
       "    </tr>\n",
       "    <tr>\n",
       "        <td>Murder</td>\n",
       "        <td>213</td>\n",
       "    </tr>\n",
       "    <tr>\n",
       "        <td>Rape</td>\n",
       "        <td>692</td>\n",
       "    </tr>\n",
       "    <tr>\n",
       "        <td>Robbery</td>\n",
       "        <td>7273</td>\n",
       "    </tr>\n",
       "    <tr>\n",
       "        <td>Aggravated Assault</td>\n",
       "        <td>7844</td>\n",
       "    </tr>\n",
       "    <tr>\n",
       "        <td>Auto Theft</td>\n",
       "        <td>8952</td>\n",
       "    </tr>\n",
       "    <tr>\n",
       "        <td>Burglary</td>\n",
       "        <td>13134</td>\n",
       "    </tr>\n",
       "    <tr>\n",
       "        <td>Theft</td>\n",
       "        <td>48659</td>\n",
       "    </tr>\n",
       "</table>"
      ],
      "text/plain": [
       "[('1', 2),\n",
       " ('Murder', 213),\n",
       " ('Rape', 692),\n",
       " ('Robbery', 7273),\n",
       " ('Aggravated Assault', 7844),\n",
       " ('Auto Theft', 8952),\n",
       " ('Burglary', 13134),\n",
       " ('Theft', 48659)]"
      ]
     },
     "execution_count": 62,
     "metadata": {},
     "output_type": "execute_result"
    }
   ],
   "source": [
    "%%sql\n",
    "SELECT o.offense_type, COUNT(*)\n",
    "FROM offense o, facts f\n",
    "WHERE o.offense_key = f.offense_key\n",
    "GROUP BY o.offense_type\n",
    "ORDER BY COUNT\n",
    "LIMIT 10;"
   ]
  },
  {
   "cell_type": "markdown",
   "metadata": {},
   "source": [
    "It looks like most criminals in Houston are theives. "
   ]
  },
  {
   "cell_type": "code",
   "execution_count": 63,
   "metadata": {
    "collapsed": false
   },
   "outputs": [
    {
     "name": "stdout",
     "output_type": "stream",
     "text": [
      "10 rows affected.\n"
     ]
    },
    {
     "data": {
      "text/html": [
       "<table>\n",
       "    <tr>\n",
       "        <th>hour</th>\n",
       "        <th>count</th>\n",
       "    </tr>\n",
       "    <tr>\n",
       "        <td>3   </td>\n",
       "        <td>513</td>\n",
       "    </tr>\n",
       "    <tr>\n",
       "        <td>4   </td>\n",
       "        <td>516</td>\n",
       "    </tr>\n",
       "    <tr>\n",
       "        <td>5   </td>\n",
       "        <td>528</td>\n",
       "    </tr>\n",
       "    <tr>\n",
       "        <td>2   </td>\n",
       "        <td>630</td>\n",
       "    </tr>\n",
       "    <tr>\n",
       "        <td>1   </td>\n",
       "        <td>710</td>\n",
       "    </tr>\n",
       "    <tr>\n",
       "        <td>0   </td>\n",
       "        <td>800</td>\n",
       "    </tr>\n",
       "    <tr>\n",
       "        <td>6   </td>\n",
       "        <td>928</td>\n",
       "    </tr>\n",
       "    <tr>\n",
       "        <td>23  </td>\n",
       "        <td>1065</td>\n",
       "    </tr>\n",
       "    <tr>\n",
       "        <td>21  </td>\n",
       "        <td>1137</td>\n",
       "    </tr>\n",
       "    <tr>\n",
       "        <td>22  </td>\n",
       "        <td>1177</td>\n",
       "    </tr>\n",
       "</table>"
      ],
      "text/plain": [
       "[('3   ', 513),\n",
       " ('4   ', 516),\n",
       " ('5   ', 528),\n",
       " ('2   ', 630),\n",
       " ('1   ', 710),\n",
       " ('0   ', 800),\n",
       " ('6   ', 928),\n",
       " ('23  ', 1065),\n",
       " ('21  ', 1137),\n",
       " ('22  ', 1177)]"
      ]
     },
     "execution_count": 63,
     "metadata": {},
     "output_type": "execute_result"
    }
   ],
   "source": [
    "%%sql \n",
    "SELECT t.hour, COUNT(*)\n",
    "FROM time t, facts f\n",
    "WHERE t.time_key = f.time_key\n",
    "AND t.date BETWEEN '2016-06-01 00:00:00' AND '2016-09-01 00:00:00'\n",
    "GROUP BY t.hour\n",
    "ORDER BY COUNT\n",
    "LIMIT 10;"
   ]
  },
  {
   "cell_type": "markdown",
   "metadata": {},
   "source": [
    "You might remember that the afternoon is the worst time in Houston in terms of crime? Well, it's not the case during the summer months.  If you are spending your summer in Houston, stay away from the streets around 10 pm. At the same time, everything is nice and quiet at 3 in the morning. "
   ]
  },
  {
   "cell_type": "markdown",
   "metadata": {},
   "source": [
    "##### What is the worst place to be in Houston on an average day?"
   ]
  },
  {
   "cell_type": "code",
   "execution_count": 64,
   "metadata": {
    "collapsed": false
   },
   "outputs": [
    {
     "name": "stdout",
     "output_type": "stream",
     "text": [
      "10 rows affected.\n"
     ]
    },
    {
     "data": {
      "text/html": [
       "<table>\n",
       "    <tr>\n",
       "        <th>premise</th>\n",
       "        <th>count</th>\n",
       "    </tr>\n",
       "    <tr>\n",
       "        <td>Residence or House</td>\n",
       "        <td>11945</td>\n",
       "    </tr>\n",
       "    <tr>\n",
       "        <td>Apartment Parking Lot</td>\n",
       "        <td>9961</td>\n",
       "    </tr>\n",
       "    <tr>\n",
       "        <td>Road, Street, or Sidewalk</td>\n",
       "        <td>9083</td>\n",
       "    </tr>\n",
       "    <tr>\n",
       "        <td>Apartment</td>\n",
       "        <td>8318</td>\n",
       "    </tr>\n",
       "    <tr>\n",
       "        <td>Restaurant or Cafeteria Parking Lot</td>\n",
       "        <td>3927</td>\n",
       "    </tr>\n",
       "    <tr>\n",
       "        <td>Driveway</td>\n",
       "        <td>3434</td>\n",
       "    </tr>\n",
       "    <tr>\n",
       "        <td>Other Parking Lot</td>\n",
       "        <td>3083</td>\n",
       "    </tr>\n",
       "    <tr>\n",
       "        <td>Department or Discount Store</td>\n",
       "        <td>2923</td>\n",
       "    </tr>\n",
       "    <tr>\n",
       "        <td>Commercial Parking Lot or Garage</td>\n",
       "        <td>2241</td>\n",
       "    </tr>\n",
       "    <tr>\n",
       "        <td>Miscellaneous Business (Non-Specific)</td>\n",
       "        <td>2238</td>\n",
       "    </tr>\n",
       "</table>"
      ],
      "text/plain": [
       "[('Residence or House', 11945),\n",
       " ('Apartment Parking Lot', 9961),\n",
       " ('Road, Street, or Sidewalk', 9083),\n",
       " ('Apartment', 8318),\n",
       " ('Restaurant or Cafeteria Parking Lot', 3927),\n",
       " ('Driveway', 3434),\n",
       " ('Other Parking Lot', 3083),\n",
       " ('Department or Discount Store', 2923),\n",
       " ('Commercial Parking Lot or Garage', 2241),\n",
       " ('Miscellaneous Business (Non-Specific)', 2238)]"
      ]
     },
     "execution_count": 64,
     "metadata": {},
     "output_type": "execute_result"
    }
   ],
   "source": [
    "%%sql \n",
    "SELECT l.premise, COUNT(*)\n",
    "FROM location l, facts f\n",
    "WHERE l.location_key = f.location_key\n",
    "GROUP BY l.premise\n",
    "ORDER BY COUNT DESC\n",
    "LIMIT 10;"
   ]
  },
  {
   "cell_type": "code",
   "execution_count": 65,
   "metadata": {
    "collapsed": false
   },
   "outputs": [
    {
     "data": {
      "text/plain": [
       "<Container object of 10 artists>"
      ]
     },
     "execution_count": 65,
     "metadata": {},
     "output_type": "execute_result"
    },
    {
     "data": {
      "image/png": "[encoded data removed]",
      "text/plain": [
       "<matplotlib.figure.Figure at 0x7f1f4b9f85c0>"
      ]
     },
     "metadata": {},
     "output_type": "display_data"
    }
   ],
   "source": [
    "%matplotlib inline\n",
    "result = _\n",
    "result.bar()"
   ]
  },
  {
   "cell_type": "code",
   "execution_count": 66,
   "metadata": {
    "collapsed": false
   },
   "outputs": [
    {
     "name": "stdout",
     "output_type": "stream",
     "text": [
      "10 rows affected.\n"
     ]
    },
    {
     "data": {
      "text/html": [
       "<table>\n",
       "    <tr>\n",
       "        <th>premise</th>\n",
       "        <th>count</th>\n",
       "    </tr>\n",
       "    <tr>\n",
       "        <td>Vacant Jail or Prison</td>\n",
       "        <td>1</td>\n",
       "    </tr>\n",
       "    <tr>\n",
       "        <td>Marine Vehicle Sales, Boats, Sailboats</td>\n",
       "        <td>2</td>\n",
       "    </tr>\n",
       "    <tr>\n",
       "        <td>Vacant Church, Synagogue, or Temple</td>\n",
       "        <td>2</td>\n",
       "    </tr>\n",
       "    <tr>\n",
       "        <td>Vacant Hospital</td>\n",
       "        <td>3</td>\n",
       "    </tr>\n",
       "    <tr>\n",
       "        <td>Video Rental &amp; Sales</td>\n",
       "        <td>3</td>\n",
       "    </tr>\n",
       "    <tr>\n",
       "        <td>Credit Union</td>\n",
       "        <td>3</td>\n",
       "    </tr>\n",
       "    <tr>\n",
       "        <td>Vacant Government or Public Building</td>\n",
       "        <td>4</td>\n",
       "    </tr>\n",
       "    <tr>\n",
       "        <td>Vacant Industrial or Manufacturing Blding</td>\n",
       "        <td>5</td>\n",
       "    </tr>\n",
       "    <tr>\n",
       "        <td>Jail or Prison</td>\n",
       "        <td>6</td>\n",
       "    </tr>\n",
       "    <tr>\n",
       "        <td>Vacant School or College/University</td>\n",
       "        <td>8</td>\n",
       "    </tr>\n",
       "</table>"
      ],
      "text/plain": [
       "[('Vacant Jail or Prison', 1),\n",
       " ('Marine Vehicle Sales, Boats, Sailboats', 2),\n",
       " ('Vacant Church, Synagogue, or Temple', 2),\n",
       " ('Vacant Hospital', 3),\n",
       " ('Video Rental & Sales', 3),\n",
       " ('Credit Union', 3),\n",
       " ('Vacant Government or Public Building', 4),\n",
       " ('Vacant Industrial or Manufacturing Blding', 5),\n",
       " ('Jail or Prison', 6),\n",
       " ('Vacant School or College/University', 8)]"
      ]
     },
     "execution_count": 66,
     "metadata": {},
     "output_type": "execute_result"
    }
   ],
   "source": [
    "%%sql \n",
    "SELECT l.premise, COUNT(*)\n",
    "FROM location l, facts f\n",
    "WHERE l.location_key = f.location_key\n",
    "GROUP BY l.premise\n",
    "ORDER BY COUNT ASC\n",
    "LIMIT 10;"
   ]
  },
  {
   "cell_type": "code",
   "execution_count": 67,
   "metadata": {
    "collapsed": false
   },
   "outputs": [
    {
     "data": {
      "text/plain": [
       "<Container object of 10 artists>"
      ]
     },
     "execution_count": 67,
     "metadata": {},
     "output_type": "execute_result"
    },
    {
     "data": {
      "image/png": "[encoded data removed]",
      "text/plain": [
       "<matplotlib.figure.Figure at 0x7f1f4d5d8940>"
      ]
     },
     "metadata": {},
     "output_type": "display_data"
    }
   ],
   "source": [
    "%matplotlib inline\n",
    "result = _\n",
    "result.bar()"
   ]
  },
  {
   "cell_type": "markdown",
   "metadata": {},
   "source": [
    "Unfortunately, the least safe places in Houston are private residences. But if you are in jail or prison, you are as safe as a person can be!"
   ]
  },
  {
   "cell_type": "markdown",
   "metadata": {},
   "source": [
    "##### What was the worst day in terms of crime in Houston in the last months?"
   ]
  },
  {
   "cell_type": "code",
   "execution_count": 68,
   "metadata": {
    "collapsed": false
   },
   "outputs": [
    {
     "name": "stdout",
     "output_type": "stream",
     "text": [
      "10 rows affected.\n"
     ]
    },
    {
     "data": {
      "text/html": [
       "<table>\n",
       "    <tr>\n",
       "        <th>date</th>\n",
       "        <th>count</th>\n",
       "    </tr>\n",
       "    <tr>\n",
       "        <td>2016-05-18 00:00:00</td>\n",
       "        <td>395</td>\n",
       "    </tr>\n",
       "    <tr>\n",
       "        <td>2016-09-15 00:00:00</td>\n",
       "        <td>392</td>\n",
       "    </tr>\n",
       "    <tr>\n",
       "        <td>2016-06-21 00:00:00</td>\n",
       "        <td>386</td>\n",
       "    </tr>\n",
       "    <tr>\n",
       "        <td>2016-09-02 00:00:00</td>\n",
       "        <td>385</td>\n",
       "    </tr>\n",
       "    <tr>\n",
       "        <td>2016-04-15 00:00:00</td>\n",
       "        <td>384</td>\n",
       "    </tr>\n",
       "    <tr>\n",
       "        <td>2016-09-07 00:00:00</td>\n",
       "        <td>379</td>\n",
       "    </tr>\n",
       "    <tr>\n",
       "        <td>2016-05-02 00:00:00</td>\n",
       "        <td>378</td>\n",
       "    </tr>\n",
       "    <tr>\n",
       "        <td>2016-06-06 00:00:00</td>\n",
       "        <td>377</td>\n",
       "    </tr>\n",
       "    <tr>\n",
       "        <td>2016-08-08 00:00:00</td>\n",
       "        <td>376</td>\n",
       "    </tr>\n",
       "    <tr>\n",
       "        <td>2016-08-01 00:00:00</td>\n",
       "        <td>375</td>\n",
       "    </tr>\n",
       "</table>"
      ],
      "text/plain": [
       "[(datetime.datetime(2016, 5, 18, 0, 0), 395),\n",
       " (datetime.datetime(2016, 9, 15, 0, 0), 392),\n",
       " (datetime.datetime(2016, 6, 21, 0, 0), 386),\n",
       " (datetime.datetime(2016, 9, 2, 0, 0), 385),\n",
       " (datetime.datetime(2016, 4, 15, 0, 0), 384),\n",
       " (datetime.datetime(2016, 9, 7, 0, 0), 379),\n",
       " (datetime.datetime(2016, 5, 2, 0, 0), 378),\n",
       " (datetime.datetime(2016, 6, 6, 0, 0), 377),\n",
       " (datetime.datetime(2016, 8, 8, 0, 0), 376),\n",
       " (datetime.datetime(2016, 8, 1, 0, 0), 375)]"
      ]
     },
     "execution_count": 68,
     "metadata": {},
     "output_type": "execute_result"
    }
   ],
   "source": [
    "%%sql \n",
    "SELECT t.date, COUNT(*)\n",
    "FROM time t, facts f\n",
    "WHERE t.date IN\n",
    "    (SELECT date FROM time)\n",
    "AND t.time_key = f.time_key\n",
    "GROUP BY t.date\n",
    "ORDER BY COUNT DESC\n",
    "LIMIT 10;"
   ]
  },
  {
   "cell_type": "markdown",
   "metadata": {},
   "source": [
    "May the 18th 2016 was an awful day with 395 offenses taking place! On average that's more than 16 every hour!"
   ]
  },
  {
   "cell_type": "markdown",
   "metadata": {
    "collapsed": true
   },
   "source": [
    "# Option A - Automating ETL"
   ]
  },
  {
   "cell_type": "markdown",
   "metadata": {},
   "source": [
    "* **Can we fully automate the process of ETL for the this particular data set?**\n",
    "    * No, we cannot! \n",
    "    * Firstly, the website requires authentication to proceed, which would require a human clicking and agreeing to their terms. \n",
    "    * Seconly the files are available in either access or xls and not csv format. Although, you can use in2csv command to automate that process.\n",
    "    * Then, we run into the issue that each month's data actually contains random data from other months and even some other years such as 85,87, etc. So there is cleanup involved. We can use 'grep' command to get rid of anything but 2016 results byt that still leaves you with overalping months entries. Ideally, human intervention is required.\n",
    "    * Lastly the separate files need to be combined into one. This can certainly be automated. In fact, we used this process (see part 1 introduction). \n",
    "    \n",
    "\n",
    "* **How often will this need to be updated?**\n",
    "    * Monthly. Upon release of monthly crime data by the city of Houston. \n",
    "  \n",
    "\n",
    "* **Easily Automate-able steps:**\n",
    "    * File conversion (in2csv)\n",
    "    * File merge\n",
    "    * Upate NULL values\n",
    "    * Fill Tables with values\n",
    "    \n",
    "    \n",
    "* **Possible issues:** \n",
    "    * Data Quality! - While going through the file we a few improper entries, although for the most part our data was very clean. The improper entries included dates in number of offenses column, and integer in offense type column. This will create errors when loading into data table without manipulation. \n",
    "    * The way we dealt with it was by manaully changing the imporper entries. In our case, that was 11 rows, so not that many but that's not to say in consequent months that number can't increase. "
   ]
  },
  {
   "cell_type": "markdown",
   "metadata": {},
   "source": [
    "# Attestation"
   ]
  },
  {
   "cell_type": "markdown",
   "metadata": {},
   "source": [
    "Akash: Worked on Parts 1, 2, Bonus (Option A) + Comments, Markdowns and clean-up for the entire project."
   ]
  },
  {
   "cell_type": "markdown",
   "metadata": {},
   "source": [
    "Dmitry: Worked on Parts 3, 4, Markdowns for parts 3 and 4"
   ]
  }
 ],
 "metadata": {
  "anaconda-cloud": {},
  "kernelspec": {
   "display_name": "Python 3",
   "language": "python",
   "name": "python3"
  },
  "language_info": {
   "codemirror_mode": {
    "name": "ipython",
    "version": 3
   },
   "file_extension": ".py",
   "mimetype": "text/x-python",
   "name": "python",
   "nbconvert_exporter": "python",
   "pygments_lexer": "ipython3",
   "version": "3.5.2"
  }
 },
 "nbformat": 4,
 "nbformat_minor": 0
}
