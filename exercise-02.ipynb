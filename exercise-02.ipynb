{
 "cells": [
  {
   "cell_type": "markdown",
   "metadata": {},
   "source": [
    "# Exercise 2 - shell, pipes, and csvkit\n",
    "\n",
    "In this exercise, we'll review a few shell commands and explore working with pipes and csvkit.\n",
    "\n",
    "You will need to fill in commands whenever prompted.  Please replace the text with your solution.\n",
    "\n",
    "Remember to submit your completed `.ipynb` file to Blackboard and to add/commit it to your Git repository and push it to GitHub.\n",
    "\n",
    "\n",
    "## Part 1 - shell commands, redirection, and pipes\n",
    "\n",
    "### Basic shell commands and redirection\n",
    "\n",
    "Create a directory called `part1` using `mkdir`."
   ]
  },
  {
   "cell_type": "code",
   "execution_count": 1,
   "metadata": {
    "collapsed": true,
    "deletable": false,
    "nbgrader": {
     "checksum": "f5b537d5f7b952dce317446fdb058b9a",
     "grade": false,
     "grade_id": "10",
     "locked": true,
     "solution": false
    }
   },
   "outputs": [],
   "source": [
    "!mkdir part1"
   ]
  },
  {
   "cell_type": "markdown",
   "metadata": {
    "nbgrader": {
     "grade": false,
     "locked": false,
     "solution": false
    }
   },
   "source": [
    "Rename `part1` to `partone` using `mv`."
   ]
  },
  {
   "cell_type": "code",
   "execution_count": 2,
   "metadata": {
    "collapsed": false,
    "deletable": false,
    "nbgrader": {
     "checksum": "c82f3351fee8525d38ee16f7eec7507f",
     "grade": false,
     "grade_id": "20",
     "locked": true,
     "solution": false
    }
   },
   "outputs": [
    {
     "name": "stdout",
     "output_type": "stream",
     "text": [
      "30  exercise-02.ipynb  partone\tsiddhartha.txt\tUntitled.ipynb\r\n"
     ]
    }
   ],
   "source": [
    "!mv part1 partone\n",
    "!ls"
   ]
  },
  {
   "cell_type": "markdown",
   "metadata": {},
   "source": [
    "Create a file named `filelist.txt` using the output from `ls` and the output redirector `>`."
   ]
  },
  {
   "cell_type": "code",
   "execution_count": 5,
   "metadata": {
    "collapsed": true,
    "deletable": false,
    "nbgrader": {
     "checksum": "30b729d6432b6cca7910ee892899ef5d",
     "grade": false,
     "grade_id": "30",
     "locked": true,
     "solution": false
    }
   },
   "outputs": [],
   "source": [
    "!ls > filelist.txt"
   ]
  },
  {
   "cell_type": "code",
   "execution_count": 6,
   "metadata": {
    "collapsed": false,
    "deletable": false,
    "nbgrader": {
     "checksum": "9dfe08124e175d4de3f34a9696605bc5",
     "grade": false,
     "grade_id": "40",
     "locked": true,
     "solution": false
    }
   },
   "outputs": [
    {
     "name": "stdout",
     "output_type": "stream",
     "text": [
      "30\r\n",
      "exercise-02.ipynb\r\n",
      "filelist.txt\r\n",
      "partone\r\n",
      "siddhartha.txt\r\n",
      "Untitled.ipynb\r\n"
     ]
    }
   ],
   "source": [
    "!cat filelist.txt"
   ]
  },
  {
   "cell_type": "markdown",
   "metadata": {},
   "source": [
    "Append to `filelist.txt` using the output appending redirector `>>`.  Note the difference between the single `>` and double `>>`."
   ]
  },
  {
   "cell_type": "code",
   "execution_count": 7,
   "metadata": {
    "collapsed": false,
    "deletable": false,
    "nbgrader": {
     "checksum": "85fece0819b324908994a3d00b6d1cea",
     "grade": false,
     "grade_id": "50",
     "locked": true,
     "solution": false
    }
   },
   "outputs": [
    {
     "name": "stdout",
     "output_type": "stream",
     "text": [
      "30\r\n",
      "exercise-02.ipynb\r\n",
      "filelist.txt\r\n",
      "partone\r\n",
      "siddhartha.txt\r\n",
      "Untitled.ipynb\r\n",
      "30\r\n",
      "exercise-02.ipynb\r\n",
      "filelist.txt\r\n",
      "partone\r\n",
      "siddhartha.txt\r\n",
      "Untitled.ipynb\r\n"
     ]
    }
   ],
   "source": [
    "!ls >> filelist.txt\n",
    "!cat filelist.txt"
   ]
  },
  {
   "cell_type": "code",
   "execution_count": 8,
   "metadata": {
    "collapsed": false,
    "deletable": false,
    "nbgrader": {
     "checksum": "663ad0f4523bc844423ea67d9af45e7c",
     "grade": false,
     "grade_id": "60",
     "locked": true,
     "solution": false
    }
   },
   "outputs": [
    {
     "name": "stdout",
     "output_type": "stream",
     "text": [
      "30\r\n",
      "exercise-02.ipynb\r\n",
      "filelist.txt\r\n",
      "partone\r\n",
      "siddhartha.txt\r\n",
      "Untitled.ipynb\r\n"
     ]
    }
   ],
   "source": [
    "!ls > filelist.txt\n",
    "!cat filelist.txt"
   ]
  },
  {
   "cell_type": "markdown",
   "metadata": {},
   "source": [
    "What's the difference between `>` and `>>`?\n"
   ]
  },
  {
   "cell_type": "code",
   "execution_count": 11,
   "metadata": {
    "collapsed": false,
    "deletable": false,
    "nbgrader": {
     "checksum": "1def2f111701a6f62a735f622190c0fc",
     "grade": true,
     "grade_id": "1060",
     "locked": false,
     "points": 1,
     "solution": true
    }
   },
   "outputs": [
    {
     "name": "stdout",
     "output_type": "stream",
     "text": [
      "Operator > directs the output of a command into a file. If the file exists, its contents will be overwritten. If it does not exist, a new file will be created. In the example above a new file called filelist.txt was created. Operator >> appends an output of a command to an existing file. If the file does not exist it creates a new one, just like in the case with > operator. In the example above the output of !ls command was appended to an existing filelist.txt file\n"
     ]
    },
    {
     "ename": "NotImplementedError",
     "evalue": "",
     "output_type": "error",
     "traceback": [
      "\u001b[0;31m---------------------------------------------------------------------------\u001b[0m",
      "\u001b[0;31mNotImplementedError\u001b[0m                       Traceback (most recent call last)",
      "\u001b[0;32m<ipython-input-11-156eead6a2d4>\u001b[0m in \u001b[0;36m<module>\u001b[0;34m()\u001b[0m\n\u001b[1;32m      1\u001b[0m \u001b[0;31m# The difference between > and >>\u001b[0m\u001b[0;34m\u001b[0m\u001b[0;34m\u001b[0m\u001b[0m\n\u001b[1;32m      2\u001b[0m \u001b[0mprint\u001b[0m\u001b[0;34m(\u001b[0m\u001b[0;34m\"Operator > directs the output of a command into a file. If the file exists, its contents will be overwritten. If it does not exist, a new file will be created. In the example above a new file called filelist.txt was created. Operator >> appends an output of a command to an existing file. If the file does not exist it creates a new one, just like in the case with > operator. In the example above the output of !ls command was appended to an existing filelist.txt file\"\u001b[0m\u001b[0;34m)\u001b[0m\u001b[0;34m\u001b[0m\u001b[0m\n\u001b[0;32m----> 3\u001b[0;31m \u001b[0;32mraise\u001b[0m \u001b[0mNotImplementedError\u001b[0m\u001b[0;34m(\u001b[0m\u001b[0;34m)\u001b[0m\u001b[0;34m\u001b[0m\u001b[0m\n\u001b[0m",
      "\u001b[0;31mNotImplementedError\u001b[0m: "
     ]
    }
   ],
   "source": [
    "# The difference between > and >>\n",
    "print(\"Operator > directs the output of a command into a file. If the file exists, its contents will be overwritten. If it does not exist, a new file will be created. In the example above a new file called filelist.txt was created. Operator >> appends an output of a command to an existing file. If the file does not exist it creates a new one, just like in the case with > operator. In the example above the output of !ls command was appended to an existing filelist.txt file\")\n",
    "raise NotImplementedError()"
   ]
  },
  {
   "cell_type": "markdown",
   "metadata": {},
   "source": [
    "### Your turn\n",
    "\n",
    "Complete the following tasks in the cells provided.  All the tests in the testing cells (with the `assert` statements) below should pass without error - be sure to execute those as well, and if you see errors, fix your answer and try testing again until there are no errors.\n",
    "\n",
    "Create a directory called `mydirectory`."
   ]
  },
  {
   "cell_type": "code",
   "execution_count": 5,
   "metadata": {
    "collapsed": false,
    "deletable": false,
    "nbgrader": {
     "checksum": "d33563fa0d503e8caf89dce38baec375",
     "grade": false,
     "grade_id": "1070",
     "locked": false,
     "solution": true
    },
    "scrolled": true
   },
   "outputs": [
    {
     "ename": "NotImplementedError",
     "evalue": "",
     "output_type": "error",
     "traceback": [
      "\u001b[0;31m---------------------------------------------------------------------------\u001b[0m",
      "\u001b[0;31mNotImplementedError\u001b[0m                       Traceback (most recent call last)",
      "\u001b[0;32m<ipython-input-5-bb5c12694e29>\u001b[0m in \u001b[0;36m<module>\u001b[0;34m()\u001b[0m\n\u001b[1;32m      1\u001b[0m \u001b[0mget_ipython\u001b[0m\u001b[0;34m(\u001b[0m\u001b[0;34m)\u001b[0m\u001b[0;34m.\u001b[0m\u001b[0msystem\u001b[0m\u001b[0;34m(\u001b[0m\u001b[0;34m'mkdir mydirectory'\u001b[0m\u001b[0;34m)\u001b[0m\u001b[0;34m\u001b[0m\u001b[0m\n\u001b[0;32m----> 2\u001b[0;31m \u001b[0;32mraise\u001b[0m \u001b[0mNotImplementedError\u001b[0m\u001b[0;34m(\u001b[0m\u001b[0;34m)\u001b[0m\u001b[0;34m\u001b[0m\u001b[0m\n\u001b[0m",
      "\u001b[0;31mNotImplementedError\u001b[0m: "
     ]
    }
   ],
   "source": [
    "!mkdir mydirectory\n",
    "raise NotImplementedError()"
   ]
  },
  {
   "cell_type": "code",
   "execution_count": 6,
   "metadata": {
    "collapsed": false,
    "deletable": false,
    "nbgrader": {
     "checksum": "044cb14e6a1452be0fed8ccc8475801b",
     "grade": true,
     "grade_id": "2080",
     "locked": true,
     "points": 1,
     "solution": false
    }
   },
   "outputs": [],
   "source": [
    "import os\n",
    "assert 'mydirectory' in os.listdir('.')"
   ]
  },
  {
   "cell_type": "markdown",
   "metadata": {
    "nbgrader": {
     "grade": false,
     "locked": false,
     "solution": false
    }
   },
   "source": [
    "Using `ls` and output redirection, create a file called `myfiles.txt` in the directory `mydirectory` that contains the list of files in the current directory."
   ]
  },
  {
   "cell_type": "code",
   "execution_count": 7,
   "metadata": {
    "collapsed": false,
    "deletable": false,
    "nbgrader": {
     "checksum": "7597f9580dfad934db17e628ceb14b82",
     "grade": false,
     "grade_id": "1080",
     "locked": false,
     "solution": true
    }
   },
   "outputs": [
    {
     "ename": "NotImplementedError",
     "evalue": "",
     "output_type": "error",
     "traceback": [
      "\u001b[0;31m---------------------------------------------------------------------------\u001b[0m",
      "\u001b[0;31mNotImplementedError\u001b[0m                       Traceback (most recent call last)",
      "\u001b[0;32m<ipython-input-7-94bd59b528b7>\u001b[0m in \u001b[0;36m<module>\u001b[0;34m()\u001b[0m\n\u001b[1;32m      1\u001b[0m \u001b[0mget_ipython\u001b[0m\u001b[0;34m(\u001b[0m\u001b[0;34m)\u001b[0m\u001b[0;34m.\u001b[0m\u001b[0msystem\u001b[0m\u001b[0;34m(\u001b[0m\u001b[0;34m'ls > myfiles.txt'\u001b[0m\u001b[0;34m)\u001b[0m\u001b[0;34m\u001b[0m\u001b[0m\n\u001b[1;32m      2\u001b[0m \u001b[0mget_ipython\u001b[0m\u001b[0;34m(\u001b[0m\u001b[0;34m)\u001b[0m\u001b[0;34m.\u001b[0m\u001b[0msystem\u001b[0m\u001b[0;34m(\u001b[0m\u001b[0;34m'mv myfiles.txt ./mydirectory/'\u001b[0m\u001b[0;34m)\u001b[0m\u001b[0;34m\u001b[0m\u001b[0m\n\u001b[0;32m----> 3\u001b[0;31m \u001b[0;32mraise\u001b[0m \u001b[0mNotImplementedError\u001b[0m\u001b[0;34m(\u001b[0m\u001b[0;34m)\u001b[0m\u001b[0;34m\u001b[0m\u001b[0m\n\u001b[0m",
      "\u001b[0;31mNotImplementedError\u001b[0m: "
     ]
    }
   ],
   "source": [
    "!ls > myfiles.txt\n",
    "!mv myfiles.txt ./mydirectory/\n",
    "raise NotImplementedError()"
   ]
  },
  {
   "cell_type": "code",
   "execution_count": 8,
   "metadata": {
    "collapsed": false,
    "deletable": false,
    "nbgrader": {
     "checksum": "c5fa0c849b28c46f7cbce8dd4d55243c",
     "grade": true,
     "grade_id": "2082",
     "locked": true,
     "points": 1,
     "solution": false
    }
   },
   "outputs": [],
   "source": [
    "assert 'myfiles.txt' in os.listdir('mydirectory')"
   ]
  },
  {
   "cell_type": "code",
   "execution_count": 9,
   "metadata": {
    "collapsed": true,
    "deletable": false,
    "nbgrader": {
     "checksum": "5cac6a1998f13f4b626526c25f3866b5",
     "grade": true,
     "grade_id": "2084",
     "locked": true,
     "points": 1,
     "solution": false
    }
   },
   "outputs": [],
   "source": [
    "myfiles = open('mydirectory/myfiles.txt').read()\n",
    "assert 'exercise-02.ipynb' in myfiles"
   ]
  },
  {
   "cell_type": "markdown",
   "metadata": {},
   "source": [
    "Clean up the directory you just created by removing its contents (the file you created) using `rm`."
   ]
  },
  {
   "cell_type": "code",
   "execution_count": 10,
   "metadata": {
    "collapsed": true,
    "deletable": false,
    "nbgrader": {
     "checksum": "3bbb28b7469568fa760fd0f058c76a7d",
     "grade": true,
     "grade_id": "2086",
     "locked": true,
     "points": 1,
     "solution": false
    }
   },
   "outputs": [],
   "source": [
    "!rm ./mydirectory/*.*"
   ]
  },
  {
   "cell_type": "code",
   "execution_count": 11,
   "metadata": {
    "collapsed": false,
    "deletable": false,
    "nbgrader": {
     "checksum": "09aa2a58c8b8a43546ecd5df593a60a4",
     "grade": true,
     "grade_id": "2088",
     "locked": true,
     "points": 1,
     "solution": false
    }
   },
   "outputs": [],
   "source": [
    "assert 'myfiles.txt' not in os.listdir('mydirectory')"
   ]
  },
  {
   "cell_type": "markdown",
   "metadata": {},
   "source": [
    "Now remove the directory itself using `rmdir`."
   ]
  },
  {
   "cell_type": "code",
   "execution_count": 12,
   "metadata": {
    "collapsed": false,
    "deletable": false,
    "nbgrader": {
     "checksum": "a4c1d99021f454a71546549c626ff69c",
     "grade": false,
     "grade_id": "2090",
     "locked": false,
     "solution": true
    }
   },
   "outputs": [
    {
     "ename": "NotImplementedError",
     "evalue": "",
     "output_type": "error",
     "traceback": [
      "\u001b[0;31m---------------------------------------------------------------------------\u001b[0m",
      "\u001b[0;31mNotImplementedError\u001b[0m                       Traceback (most recent call last)",
      "\u001b[0;32m<ipython-input-12-7d4361271629>\u001b[0m in \u001b[0;36m<module>\u001b[0;34m()\u001b[0m\n\u001b[1;32m      1\u001b[0m \u001b[0mget_ipython\u001b[0m\u001b[0;34m(\u001b[0m\u001b[0;34m)\u001b[0m\u001b[0;34m.\u001b[0m\u001b[0msystem\u001b[0m\u001b[0;34m(\u001b[0m\u001b[0;34m'rmdir mydirectory'\u001b[0m\u001b[0;34m)\u001b[0m\u001b[0;34m\u001b[0m\u001b[0m\n\u001b[0;32m----> 2\u001b[0;31m \u001b[0;32mraise\u001b[0m \u001b[0mNotImplementedError\u001b[0m\u001b[0;34m(\u001b[0m\u001b[0;34m)\u001b[0m\u001b[0;34m\u001b[0m\u001b[0m\n\u001b[0m",
      "\u001b[0;31mNotImplementedError\u001b[0m: "
     ]
    }
   ],
   "source": [
    "!rmdir mydirectory\n",
    "raise NotImplementedError()"
   ]
  },
  {
   "cell_type": "code",
   "execution_count": 13,
   "metadata": {
    "collapsed": true,
    "deletable": false,
    "nbgrader": {
     "checksum": "487544a62d201fd807fbc89eafd1c78c",
     "grade": true,
     "grade_id": "2092",
     "locked": true,
     "points": 1,
     "solution": false
    }
   },
   "outputs": [],
   "source": [
    "assert 'mydirectory' not in os.listdir('.')"
   ]
  },
  {
   "cell_type": "markdown",
   "metadata": {},
   "source": [
    "### Filters and pipes\n",
    "\n",
    "Let's look at something a little more interesting.  Download the text of Herman Hesse's *Siddhartha* from [Project Gutenberg](http://www.gutenberg.org/):"
   ]
  },
  {
   "cell_type": "code",
   "execution_count": 14,
   "metadata": {
    "collapsed": false,
    "deletable": false,
    "nbgrader": {
     "checksum": "2a7a6330b2911f1dd37bbc761c48de0e",
     "grade": false,
     "grade_id": "100",
     "locked": true,
     "solution": false
    }
   },
   "outputs": [
    {
     "name": "stdout",
     "output_type": "stream",
     "text": [
      "--2016-09-08 20:58:18--  https://www.gutenberg.org/cache/epub/2500/pg2500.txt\n",
      "Resolving www.gutenberg.org (www.gutenberg.org)... 152.19.134.47, 2610:28:3090:3000:0:bad:cafe:47\n",
      "Connecting to www.gutenberg.org (www.gutenberg.org)|152.19.134.47|:443... connected.\n",
      "HTTP request sent, awaiting response... 200 OK\n",
      "Length: 241176 (236K) [text/plain]\n",
      "Saving to: ‘pg2500.txt’\n",
      "\n",
      "pg2500.txt          100%[===================>] 235.52K  1.13MB/s    in 0.2s    \n",
      "\n",
      "2016-09-08 20:58:19 (1.13 MB/s) - ‘pg2500.txt’ saved [241176/241176]\n",
      "\n"
     ]
    }
   ],
   "source": [
    "!wget https://www.gutenberg.org/cache/epub/2500/pg2500.txt"
   ]
  },
  {
   "cell_type": "markdown",
   "metadata": {},
   "source": [
    "*Note*: sometimes Project Gutenberg restricts access.  If that creates an error for you, you should be able to `wget` the same file from our class repository on GitHub at the url https://github.com/gwsb-istm-6212-fall-2016/syllabus-and-schedule/raw/master/exercises/pg2500.txt.\n",
    "\n",
    "However you get the file, let's rename it to something easier to remember."
   ]
  },
  {
   "cell_type": "code",
   "execution_count": 15,
   "metadata": {
    "collapsed": true,
    "deletable": false,
    "nbgrader": {
     "checksum": "82f4be7ded4256e4ba30f89527340025",
     "grade": false,
     "grade_id": "110",
     "locked": true,
     "solution": false
    }
   },
   "outputs": [],
   "source": [
    "!mv pg2500.txt siddhartha.txt"
   ]
  },
  {
   "cell_type": "markdown",
   "metadata": {},
   "source": [
    "`head` and `tail` are very useful.  They let you take a quick peek at the start and end of files."
   ]
  },
  {
   "cell_type": "code",
   "execution_count": 16,
   "metadata": {
    "collapsed": false,
    "deletable": false,
    "nbgrader": {
     "checksum": "07bc1e0610cf196f4ecbb3a5faa56d50",
     "grade": false,
     "grade_id": "115",
     "locked": true,
     "solution": false
    }
   },
   "outputs": [
    {
     "name": "stdout",
     "output_type": "stream",
     "text": [
      "﻿The Project Gutenberg EBook of Siddhartha, by Herman Hesse\r",
      "\r\n",
      "\r",
      "\r\n",
      "This eBook is for the use of anyone anywhere at no cost and with\r",
      "\r\n",
      "almost no restrictions whatsoever.  You may copy it, give it away or\r",
      "\r\n",
      "re-use it under the terms of the Project Gutenberg License included\r",
      "\r\n",
      "with this eBook or online at www.gutenberg.org\r",
      "\r\n",
      "\r",
      "\r\n",
      "\r",
      "\r\n",
      "Title: Siddhartha\r",
      "\r\n",
      "\r",
      "\r\n"
     ]
    }
   ],
   "source": [
    "!head siddhartha.txt"
   ]
  },
  {
   "cell_type": "code",
   "execution_count": 17,
   "metadata": {
    "collapsed": false,
    "deletable": false,
    "nbgrader": {
     "checksum": "be91f9ac94980a260f0168cd893ce8e5",
     "grade": false,
     "grade_id": "117",
     "locked": true,
     "solution": false
    }
   },
   "outputs": [
    {
     "name": "stdout",
     "output_type": "stream",
     "text": [
      "\r",
      "\r\n",
      "\r",
      "\r\n",
      "Most people start at our Web site which has the main PG search facility:\r",
      "\r\n",
      "\r",
      "\r\n",
      "     http://www.gutenberg.org\r",
      "\r\n",
      "\r",
      "\r\n",
      "This Web site includes information about Project Gutenberg-tm,\r",
      "\r\n",
      "including how to make donations to the Project Gutenberg Literary\r",
      "\r\n",
      "Archive Foundation, how to help produce our new eBooks, and how to\r",
      "\r\n",
      "subscribe to our email newsletter to hear about new eBooks.\r",
      "\r\n"
     ]
    }
   ],
   "source": [
    "!tail siddhartha.txt"
   ]
  },
  {
   "cell_type": "markdown",
   "metadata": {},
   "source": [
    "`grep` is one of the most useful filters.  It lets you search for and match lines that contain specific expressions.  For example, to find mentions of \"copyright\":"
   ]
  },
  {
   "cell_type": "code",
   "execution_count": 18,
   "metadata": {
    "collapsed": false,
    "deletable": false,
    "nbgrader": {
     "checksum": "841b4f61d576f5cbe8e025748b2b185c",
     "grade": false,
     "grade_id": "120",
     "locked": true,
     "solution": false
    }
   },
   "outputs": [
    {
     "name": "stdout",
     "output_type": "stream",
     "text": [
      "one owns a United States copyright in these works, so the Foundation\r",
      "\r\n",
      "permission and without paying copyright royalties.  Special rules,\r",
      "\r\n",
      "(trademark/copyright) agreement.  If you do not agree to abide by all\r",
      "\r\n",
      "or PGLAF), owns a compilation copyright in the collection of Project\r",
      "\r\n",
      "1.D.  The copyright laws of the place where you are located also govern\r",
      "\r\n",
      "the copyright status of any work in any country outside the United\r",
      "\r\n",
      "posted with permission of the copyright holder), the work can be copied\r",
      "\r\n",
      "with the permission of the copyright holder, your use and distribution\r",
      "\r\n",
      "terms imposed by the copyright holder.  Additional terms will be linked\r",
      "\r\n",
      "permission of the copyright holder found at the beginning of this work.\r",
      "\r\n",
      "effort to identify, do copyright research on, transcribe and proofread\r",
      "\r\n",
      "corrupt data, transcription errors, a copyright or other intellectual\r",
      "\r\n",
      "unless a copyright notice is included.  Thus, we do not necessarily\r",
      "\r\n"
     ]
    }
   ],
   "source": [
    "!grep copyright siddhartha.txt"
   ]
  },
  {
   "cell_type": "markdown",
   "metadata": {
    "nbgrader": {
     "grade": false,
     "locked": false,
     "solution": false
    }
   },
   "source": [
    "Notice anything that those lines have in common?\n",
    "\n",
    "Let's add a little more information by including the `-n` flag to add matching line numbers."
   ]
  },
  {
   "cell_type": "code",
   "execution_count": 19,
   "metadata": {
    "collapsed": false,
    "deletable": false,
    "nbgrader": {
     "checksum": "6b65a232f107e95ef28958d654db1b22",
     "grade": false,
     "grade_id": "130",
     "locked": true,
     "solution": false
    }
   },
   "outputs": [
    {
     "name": "stdout",
     "output_type": "stream",
     "text": [
      "3973:one owns a United States copyright in these works, so the Foundation\r",
      "\r\n",
      "3975:permission and without paying copyright royalties.  Special rules,\r",
      "\r\n",
      "4010:(trademark/copyright) agreement.  If you do not agree to abide by all\r",
      "\r\n",
      "4029:or PGLAF), owns a compilation copyright in the collection of Project\r",
      "\r\n",
      "4044:1.D.  The copyright laws of the place where you are located also govern\r",
      "\r\n",
      "4051:the copyright status of any work in any country outside the United\r",
      "\r\n",
      "4070:posted with permission of the copyright holder), the work can be copied\r",
      "\r\n",
      "4080:with the permission of the copyright holder, your use and distribution\r",
      "\r\n",
      "4082:terms imposed by the copyright holder.  Additional terms will be linked\r",
      "\r\n",
      "4084:permission of the copyright holder found at the beginning of this work.\r",
      "\r\n",
      "4155:effort to identify, do copyright research on, transcribe and proofread\r",
      "\r\n",
      "4160:corrupt data, transcription errors, a copyright or other intellectual\r",
      "\r\n",
      "4308:unless a copyright notice is included.  Thus, we do not necessarily\r",
      "\r\n"
     ]
    }
   ],
   "source": [
    "!grep -n copyright siddhartha.txt"
   ]
  },
  {
   "cell_type": "markdown",
   "metadata": {},
   "source": [
    "Now let's look for any mention of \"river\".  This will match a lot of text, so we'll just take the first 10 matching lines by *piping* the output from `grep` into `head`."
   ]
  },
  {
   "cell_type": "code",
   "execution_count": 20,
   "metadata": {
    "collapsed": false,
    "deletable": false,
    "nbgrader": {
     "checksum": "b2915ce333b40c35729ddc198e75a53c",
     "grade": false,
     "grade_id": "140",
     "locked": true,
     "solution": false
    }
   },
   "outputs": [
    {
     "name": "stdout",
     "output_type": "stream",
     "text": [
      "52:In the shade of the house, in the sunshine of the riverbank near the\r",
      "\r\n",
      "56:tanned his light shoulders by the banks of the river when bathing,\r",
      "\r\n",
      "107:came into his mind, flowing from the water of the river, sparkling from\r",
      "\r\n",
      "329:the river and to perform the first ablution.\"\r",
      "\r\n",
      "460:the same short numbing is what the driver of an ox-cart finds in the\r",
      "\r\n",
      "469:is no driver of an ox-cart and a Samana is no drunkard.  It's true that\r",
      "\r\n",
      "580:submerged in the murky river of physical forms.  Many wonderful and\r",
      "\r\n",
      "1062:and the river flowed, the forest and the mountains were rigid, all of it\r",
      "\r\n",
      "1065:all this yellow and blue, river and forest, entered Siddhartha for the\r",
      "\r\n",
      "1069:who scorns diversity, who seeks unity.  Blue was blue, river was river,\r",
      "\r\n"
     ]
    }
   ],
   "source": [
    "!grep -n river siddhartha.txt | head"
   ]
  },
  {
   "cell_type": "markdown",
   "metadata": {},
   "source": [
    "How many lines contain \"river\"?  We can count by piping into the word count tool `wc`."
   ]
  },
  {
   "cell_type": "code",
   "execution_count": 21,
   "metadata": {
    "collapsed": false,
    "deletable": false,
    "nbgrader": {
     "checksum": "fb58de6f7b5f1543978e07677d837bf1",
     "grade": false,
     "grade_id": "150",
     "locked": true,
     "solution": false
    }
   },
   "outputs": [
    {
     "name": "stdout",
     "output_type": "stream",
     "text": [
      "    109    1365    7443\r\n"
     ]
    }
   ],
   "source": [
    "!grep river siddhartha.txt | wc"
   ]
  },
  {
   "cell_type": "markdown",
   "metadata": {},
   "source": [
    "That's 109 matching lines, containing 1365 words and 7979 characters.  If you just wanted the lines by themselves, use `wc -l`:"
   ]
  },
  {
   "cell_type": "code",
   "execution_count": 22,
   "metadata": {
    "collapsed": false,
    "deletable": false,
    "nbgrader": {
     "checksum": "11148a8a14955620fc0280d0a2ea4bca",
     "grade": false,
     "grade_id": "160",
     "locked": true,
     "solution": false
    }
   },
   "outputs": [
    {
     "name": "stdout",
     "output_type": "stream",
     "text": [
      "109\r\n"
     ]
    }
   ],
   "source": [
    "!grep river siddhartha.txt | wc -l"
   ]
  },
  {
   "cell_type": "markdown",
   "metadata": {},
   "source": [
    "What if we want to match both upper- and lower-case text?  Use `grep -i`:"
   ]
  },
  {
   "cell_type": "code",
   "execution_count": 23,
   "metadata": {
    "collapsed": false,
    "deletable": false,
    "nbgrader": {
     "checksum": "8f95d05a6e3cbed9e4d98e32b740a92d",
     "grade": false,
     "grade_id": "170",
     "locked": true,
     "solution": false
    }
   },
   "outputs": [
    {
     "name": "stdout",
     "output_type": "stream",
     "text": [
      "166\r\n"
     ]
    }
   ],
   "source": [
    "!grep time siddhartha.txt | wc -l"
   ]
  },
  {
   "cell_type": "code",
   "execution_count": 24,
   "metadata": {
    "collapsed": false,
    "deletable": false,
    "nbgrader": {
     "checksum": "912c4b535f38fd939a3d8e55fae2b396",
     "grade": false,
     "grade_id": "180",
     "locked": true,
     "solution": false
    }
   },
   "outputs": [
    {
     "name": "stdout",
     "output_type": "stream",
     "text": [
      "167\r\n"
     ]
    }
   ],
   "source": [
    "!grep -i time siddhartha.txt | wc -l"
   ]
  },
  {
   "cell_type": "markdown",
   "metadata": {},
   "source": [
    "### Your turn\n",
    "\n",
    "How many lines in *Siddhartha* contain \"other\" (just lower-case)?  Start by using `grep` to extract lines that match the word \"other\" in `siddhartha.txt` and redirecting it to a file called `other-lines.txt`."
   ]
  },
  {
   "cell_type": "code",
   "execution_count": 25,
   "metadata": {
    "collapsed": false,
    "deletable": false,
    "nbgrader": {
     "checksum": "29464aeb6ccd6012df59512b61ebbef1",
     "grade": false,
     "grade_id": "2180",
     "locked": false,
     "solution": true
    }
   },
   "outputs": [
    {
     "ename": "NotImplementedError",
     "evalue": "",
     "output_type": "error",
     "traceback": [
      "\u001b[0;31m---------------------------------------------------------------------------\u001b[0m",
      "\u001b[0;31mNotImplementedError\u001b[0m                       Traceback (most recent call last)",
      "\u001b[0;32m<ipython-input-25-7dac35137b4f>\u001b[0m in \u001b[0;36m<module>\u001b[0;34m()\u001b[0m\n\u001b[1;32m      1\u001b[0m \u001b[0mget_ipython\u001b[0m\u001b[0;34m(\u001b[0m\u001b[0;34m)\u001b[0m\u001b[0;34m.\u001b[0m\u001b[0msystem\u001b[0m\u001b[0;34m(\u001b[0m\u001b[0;34m'grep -n other siddhartha.txt > other-lines.txt'\u001b[0m\u001b[0;34m)\u001b[0m\u001b[0;34m\u001b[0m\u001b[0m\n\u001b[0;32m----> 2\u001b[0;31m \u001b[0;32mraise\u001b[0m \u001b[0mNotImplementedError\u001b[0m\u001b[0;34m(\u001b[0m\u001b[0;34m)\u001b[0m\u001b[0;34m\u001b[0m\u001b[0m\n\u001b[0m",
      "\u001b[0;31mNotImplementedError\u001b[0m: "
     ]
    }
   ],
   "source": [
    "!grep -n other siddhartha.txt > other-lines.txt\n",
    "raise NotImplementedError()"
   ]
  },
  {
   "cell_type": "code",
   "execution_count": 26,
   "metadata": {
    "collapsed": false,
    "deletable": false,
    "nbgrader": {
     "checksum": "b8f99b25656d31de80ac60c6342a113c",
     "grade": true,
     "grade_id": "2190",
     "locked": true,
     "points": 1,
     "solution": false
    }
   },
   "outputs": [],
   "source": [
    "%sc h_other = head -1 other-lines.txt\n",
    "assert \"other\" in h_other"
   ]
  },
  {
   "cell_type": "code",
   "execution_count": 27,
   "metadata": {
    "collapsed": true,
    "deletable": false,
    "nbgrader": {
     "checksum": "4421d8e10e40f320b2e84d340701bcd1",
     "grade": true,
     "grade_id": "2200",
     "locked": true,
     "points": 1,
     "solution": false
    }
   },
   "outputs": [],
   "source": [
    "%sc t_other = tail -1 other-lines.txt\n",
    "assert \"other\" in t_other"
   ]
  },
  {
   "cell_type": "markdown",
   "metadata": {},
   "source": [
    "Now count up the lines in the file you created using `wc`."
   ]
  },
  {
   "cell_type": "code",
   "execution_count": 34,
   "metadata": {
    "collapsed": false,
    "deletable": false,
    "nbgrader": {
     "checksum": "a8452b039d523484f0a1e453b12b564d",
     "grade": false,
     "grade_id": "2210",
     "locked": false,
     "solution": true
    }
   },
   "outputs": [
    {
     "ename": "NotImplementedError",
     "evalue": "",
     "output_type": "error",
     "traceback": [
      "\u001b[0;31m---------------------------------------------------------------------------\u001b[0m",
      "\u001b[0;31mNotImplementedError\u001b[0m                       Traceback (most recent call last)",
      "\u001b[0;32m<ipython-input-34-21107f988057>\u001b[0m in \u001b[0;36m<module>\u001b[0;34m()\u001b[0m\n\u001b[1;32m      1\u001b[0m \u001b[0mlinescount\u001b[0m \u001b[0;34m=\u001b[0m \u001b[0mget_ipython\u001b[0m\u001b[0;34m(\u001b[0m\u001b[0;34m)\u001b[0m\u001b[0;34m.\u001b[0m\u001b[0mgetoutput\u001b[0m\u001b[0;34m(\u001b[0m\u001b[0;34m'wc -l other-lines.txt'\u001b[0m\u001b[0;34m)\u001b[0m\u001b[0;34m\u001b[0m\u001b[0m\n\u001b[0;32m----> 2\u001b[0;31m \u001b[0;32mraise\u001b[0m \u001b[0mNotImplementedError\u001b[0m\u001b[0;34m(\u001b[0m\u001b[0;34m)\u001b[0m\u001b[0;34m\u001b[0m\u001b[0m\n\u001b[0m",
      "\u001b[0;31mNotImplementedError\u001b[0m: "
     ]
    }
   ],
   "source": [
    "linescount = !wc -l other-lines.txt\n",
    "raise NotImplementedError()"
   ]
  },
  {
   "cell_type": "code",
   "execution_count": 35,
   "metadata": {
    "collapsed": false,
    "deletable": false,
    "nbgrader": {
     "checksum": "2a1968fbde32fc80801d88a1e58f1c48",
     "grade": true,
     "grade_id": "2220",
     "locked": true,
     "points": 1,
     "solution": false
    }
   },
   "outputs": [
    {
     "ename": "AssertionError",
     "evalue": "",
     "output_type": "error",
     "traceback": [
      "\u001b[0;31m---------------------------------------------------------------------------\u001b[0m",
      "\u001b[0;31mAssertionError\u001b[0m                            Traceback (most recent call last)",
      "\u001b[0;32m<ipython-input-35-76d099932560>\u001b[0m in \u001b[0;36m<module>\u001b[0;34m()\u001b[0m\n\u001b[0;32m----> 1\u001b[0;31m \u001b[0;32massert\u001b[0m \u001b[0;34m\"127\"\u001b[0m \u001b[0;32min\u001b[0m \u001b[0mlinescount\u001b[0m\u001b[0;34m\u001b[0m\u001b[0m\n\u001b[0m",
      "\u001b[0;31mAssertionError\u001b[0m: "
     ]
    }
   ],
   "source": [
    "assert \"127\" in linescount"
   ]
  },
  {
   "cell_type": "markdown",
   "metadata": {},
   "source": [
    "Your answer should be 127!\n",
    "\n",
    "### Counting words with `grep`\n",
    "\n",
    "By piping commands together we can do a lot of powerful things right at the command line.  Let's create a count of the most commonly occurring words in *Siddhartha*.  To do that, we could write a Python script that just counts words, but with the command line shell tools we only need to put a proper pipeline together and we can often accomplish tasks like this in one line.\n",
    "\n",
    "First we need to split up the text lines into a word per line.  There are `grep` flags for that!"
   ]
  },
  {
   "cell_type": "code",
   "execution_count": 46,
   "metadata": {
    "collapsed": false,
    "deletable": false,
    "nbgrader": {
     "checksum": "1fd3747e7dc91b3e1f4fff371a934f99",
     "grade": false,
     "grade_id": "230",
     "locked": true,
     "solution": false
    }
   },
   "outputs": [
    {
     "name": "stdout",
     "output_type": "stream",
     "text": [
      "The\r\n",
      "Project\r\n",
      "Gutenberg\r\n",
      "EBook\r\n",
      "of\r\n",
      "Siddhartha\r\n",
      "by\r\n",
      "Herman\r\n",
      "Hesse\r\n",
      "This\r\n",
      "grep: write error: Broken pipe\r\n",
      "cat: write error: Broken pipe\r\n"
     ]
    }
   ],
   "source": [
    "!cat siddhartha.txt | grep -oE '\\w{{2,}}' | head -10"
   ]
  },
  {
   "cell_type": "markdown",
   "metadata": {},
   "source": [
    "Now we need to sort them and count the unique tokens.  `sort` solves the first problem."
   ]
  },
  {
   "cell_type": "code",
   "execution_count": 47,
   "metadata": {
    "collapsed": false,
    "deletable": false,
    "nbgrader": {
     "checksum": "4f7be0c7fb94712a0745b5af4417b323",
     "grade": false,
     "grade_id": "240",
     "locked": true,
     "solution": false
    }
   },
   "outputs": [
    {
     "name": "stdout",
     "output_type": "stream",
     "text": [
      "000\r\n",
      "1500\r\n",
      "1887\r\n",
      "20\r\n",
      "2001\r\n",
      "2008\r\n",
      "2011\r\n",
      "2013\r\n",
      "23\r\n",
      "2500\r\n",
      "sort: write failed: 'standard output': Broken pipe\r\n",
      "sort: write error\r\n"
     ]
    }
   ],
   "source": [
    "!cat siddhartha.txt | grep -oE '\\w{{2,}}' | sort | head -10"
   ]
  },
  {
   "cell_type": "markdown",
   "metadata": {},
   "source": [
    "And `uniq -c` solves the second problem."
   ]
  },
  {
   "cell_type": "code",
   "execution_count": 48,
   "metadata": {
    "collapsed": false,
    "deletable": false,
    "nbgrader": {
     "checksum": "686d202bf3e062df279ccd1f00c83285",
     "grade": false,
     "grade_id": "250",
     "locked": true,
     "solution": false
    }
   },
   "outputs": [
    {
     "name": "stdout",
     "output_type": "stream",
     "text": [
      "      1 000\n",
      "      1 1500\n",
      "      1 1887\n",
      "      1 20\n",
      "      1 2001\n",
      "      1 2008\n",
      "      1 2011\n",
      "      1 2013\n",
      "      1 23\n",
      "      4 2500\n",
      "      1 30\n",
      "      1 4557\n",
      "      1 50\n",
      "      2 501\n",
      "      1 596\n",
      "      1 60\n",
      "      1 6221541\n",
      "      1 64\n",
      "      1 801\n",
      "      1 809\n",
      "      1 84116\n",
      "      2 90\n",
      "      1 99712\n",
      "      2 abandon\n",
      "      2 abandoned\n",
      "uniq: write error: Broken pipe\n"
     ]
    }
   ],
   "source": [
    "!cat siddhartha.txt | grep -oE '\\w{{2,}}' | sort | uniq -c | head -25"
   ]
  },
  {
   "cell_type": "markdown",
   "metadata": {},
   "source": [
    "But there's a catch... do you see it?\n",
    "\n",
    "We need to convert all the words down into lower case so that we are correctly counting unique words.  There's another command, `tr`, for that."
   ]
  },
  {
   "cell_type": "code",
   "execution_count": 51,
   "metadata": {
    "collapsed": false,
    "deletable": false,
    "nbgrader": {
     "checksum": "dcd703639103bcfc948b3ef5bc364f19",
     "grade": false,
     "grade_id": "260",
     "locked": true,
     "solution": false
    }
   },
   "outputs": [
    {
     "name": "stdout",
     "output_type": "stream",
     "text": [
      "      1 000\r\n",
      "      1 1500\r\n",
      "      1 1887\r\n",
      "      1 20\r\n",
      "      1 2001\r\n",
      "      1 2008\r\n",
      "      1 2011\r\n",
      "      1 2013\r\n",
      "      1 23\r\n",
      "      4 2500\r\n",
      "      1 30\r\n",
      "      1 4557\r\n",
      "      1 50\r\n",
      "      2 501\r\n",
      "      1 596\r\n",
      "      1 60\r\n",
      "      1 6221541\r\n",
      "      1 64\r\n",
      "      1 801\r\n",
      "      1 809\r\n",
      "      1 84116\r\n",
      "      2 90\r\n",
      "      1 99712\r\n",
      "      2 abandon\r\n",
      "      2 abandoned\r\n",
      "uniq: write error: Broken pipe\r\n"
     ]
    }
   ],
   "source": [
    "!cat siddhartha.txt | grep -oE '\\w{{2,}}' | tr '[:upper:]' '[:lower:]' | sort | uniq -c | head -25"
   ]
  },
  {
   "cell_type": "markdown",
   "metadata": {},
   "source": [
    "...and if we want to know only the top 10 words in Siddhartha, we need to sort the output."
   ]
  },
  {
   "cell_type": "code",
   "execution_count": 52,
   "metadata": {
    "collapsed": false,
    "deletable": false,
    "nbgrader": {
     "checksum": "c87de9b72cbb741a9fd07f48ecc5a78c",
     "grade": false,
     "grade_id": "270",
     "locked": true,
     "solution": false
    }
   },
   "outputs": [
    {
     "name": "stdout",
     "output_type": "stream",
     "text": [
      "      1 000\r\n",
      "    101 do\r\n",
      "    106 more\r\n",
      "    108 any\r\n",
      "    108 so\r\n",
      "     10 access\r\n",
      "     10 agree\r\n",
      "     10 arms\r\n",
      "     10 ask\r\n",
      "     10 ate\r\n",
      "sort: write failed: 'standard output': Broken pipe\r\n",
      "sort: write error\r\n"
     ]
    }
   ],
   "source": [
    "!cat siddhartha.txt | grep -oE '\\w{{2,}}' | tr '[:upper:]' '[:lower:]' | sort | uniq -c | sort | head -10"
   ]
  },
  {
   "cell_type": "markdown",
   "metadata": {},
   "source": [
    "But that sorts by character, not number.  Fortunately, `sort -n` does what we want."
   ]
  },
  {
   "cell_type": "code",
   "execution_count": 54,
   "metadata": {
    "collapsed": false,
    "deletable": false,
    "nbgrader": {
     "checksum": "fecdbd7552145920ddff8c2ac0d21ca7",
     "grade": false,
     "grade_id": "280",
     "locked": true,
     "solution": false
    }
   },
   "outputs": [
    {
     "name": "stdout",
     "output_type": "stream",
     "text": [
      "      1 000\r\n",
      "      1 1500\r\n",
      "      1 1887\r\n",
      "      1 20\r\n",
      "      1 2001\r\n",
      "      1 2008\r\n",
      "      1 2011\r\n",
      "      1 2013\r\n",
      "      1 23\r\n",
      "      1 30\r\n",
      "sort: write failed: 'standard output': Broken pipe\r\n",
      "sort: write error\r\n"
     ]
    }
   ],
   "source": [
    "!cat siddhartha.txt | grep -oE '\\w{{2,}}' | tr '[:upper:]' '[:lower:]' | sort | uniq -c | sort -n | head -10"
   ]
  },
  {
   "cell_type": "markdown",
   "metadata": {},
   "source": [
    "But that's the wrong end of the list!  Two ways to fix that:  (a) use `tail` instead of `head`; (b) use `sort -rn`, which will sort in reverse order.  Let's try the latter."
   ]
  },
  {
   "cell_type": "code",
   "execution_count": 55,
   "metadata": {
    "collapsed": false,
    "deletable": false,
    "nbgrader": {
     "checksum": "a8e960da24ca9db3c6f2a9da999f11e6",
     "grade": false,
     "grade_id": "290",
     "locked": true,
     "solution": false
    }
   },
   "outputs": [
    {
     "name": "stdout",
     "output_type": "stream",
     "text": [
      "   2221 the\r\n",
      "   1434 and\r\n",
      "   1225 to\r\n",
      "   1106 of\r\n",
      "    960 he\r\n",
      "    708 his\r\n",
      "    686 in\r\n",
      "    540 you\r\n",
      "    524 had\r\n",
      "    512 was\r\n",
      "sort: write failed: 'standard output': Broken pipe\r\n",
      "sort: write error\r\n"
     ]
    }
   ],
   "source": [
    "!cat siddhartha.txt | grep -oE '\\w{{2,}}' | tr '[:upper:]' '[:lower:]' | sort | uniq -c | sort -rn | head -10"
   ]
  },
  {
   "cell_type": "markdown",
   "metadata": {},
   "source": [
    "### Your turn\n",
    "\n",
    "Download *Alice in Wonderland* from http://www.gutenberg.org/cache/epub/11/pg11.txt (or https://github.com/gwsb-istm-6212-fall-2016/syllabus-and-schedule/raw/master/exercises/pg11.txt if the first url doesn't work)."
   ]
  },
  {
   "cell_type": "code",
   "execution_count": 57,
   "metadata": {
    "collapsed": false,
    "deletable": false,
    "nbgrader": {
     "checksum": "e11a684ec2214133d09273dfd492f35a",
     "grade": false,
     "grade_id": "2290",
     "locked": false,
     "solution": true
    }
   },
   "outputs": [
    {
     "name": "stdout",
     "output_type": "stream",
     "text": [
      "--2016-09-08 22:00:52--  http://www.gutenberg.org/cache/epub/11/pg11.txt\n",
      "Resolving www.gutenberg.org (www.gutenberg.org)... 152.19.134.47, 2610:28:3090:3000:0:bad:cafe:47\n",
      "Connecting to www.gutenberg.org (www.gutenberg.org)|152.19.134.47|:80... connected.\n",
      "HTTP request sent, awaiting response... 200 OK\n",
      "Length: 167518 (164K) [text/plain]\n",
      "Saving to: ‘pg11.txt.1’\n",
      "\n",
      "pg11.txt.1          100%[===================>] 163.59K  --.-KB/s    in 0.004s  \n",
      "\n",
      "2016-09-08 22:00:52 (39.8 MB/s) - ‘pg11.txt.1’ saved [167518/167518]\n",
      "\n"
     ]
    },
    {
     "ename": "NotImplementedError",
     "evalue": "",
     "output_type": "error",
     "traceback": [
      "\u001b[0;31m---------------------------------------------------------------------------\u001b[0m",
      "\u001b[0;31mNotImplementedError\u001b[0m                       Traceback (most recent call last)",
      "\u001b[0;32m<ipython-input-57-c630d7bc7b69>\u001b[0m in \u001b[0;36m<module>\u001b[0;34m()\u001b[0m\n\u001b[1;32m      1\u001b[0m \u001b[0mget_ipython\u001b[0m\u001b[0;34m(\u001b[0m\u001b[0;34m)\u001b[0m\u001b[0;34m.\u001b[0m\u001b[0msystem\u001b[0m\u001b[0;34m(\u001b[0m\u001b[0;34m'wget http://www.gutenberg.org/cache/epub/11/pg11.txt'\u001b[0m\u001b[0;34m)\u001b[0m\u001b[0;34m\u001b[0m\u001b[0m\n\u001b[0;32m----> 2\u001b[0;31m \u001b[0;32mraise\u001b[0m \u001b[0mNotImplementedError\u001b[0m\u001b[0;34m(\u001b[0m\u001b[0;34m)\u001b[0m\u001b[0;34m\u001b[0m\u001b[0m\n\u001b[0m",
      "\u001b[0;31mNotImplementedError\u001b[0m: "
     ]
    }
   ],
   "source": [
    "!wget http://www.gutenberg.org/cache/epub/11/pg11.txt\n",
    "raise NotImplementedError()"
   ]
  },
  {
   "cell_type": "code",
   "execution_count": 59,
   "metadata": {
    "collapsed": false,
    "deletable": false,
    "nbgrader": {
     "checksum": "3509cd883e23c57fb455b10cb9f527a4",
     "grade": true,
     "grade_id": "2295",
     "locked": true,
     "points": 1,
     "solution": false
    }
   },
   "outputs": [],
   "source": [
    "assert 'pg11.txt' in os.listdir('.')"
   ]
  },
  {
   "cell_type": "markdown",
   "metadata": {},
   "source": [
    "Now rename `pg11.txt` to `alice.txt`."
   ]
  },
  {
   "cell_type": "code",
   "execution_count": 60,
   "metadata": {
    "collapsed": false,
    "deletable": false,
    "nbgrader": {
     "checksum": "fa2a9f92575ebd6467921c51189f1362",
     "grade": false,
     "grade_id": "2300",
     "locked": false,
     "solution": true
    }
   },
   "outputs": [
    {
     "ename": "NotImplementedError",
     "evalue": "",
     "output_type": "error",
     "traceback": [
      "\u001b[0;31m---------------------------------------------------------------------------\u001b[0m",
      "\u001b[0;31mNotImplementedError\u001b[0m                       Traceback (most recent call last)",
      "\u001b[0;32m<ipython-input-60-7d61707cdef6>\u001b[0m in \u001b[0;36m<module>\u001b[0;34m()\u001b[0m\n\u001b[1;32m      1\u001b[0m \u001b[0mget_ipython\u001b[0m\u001b[0;34m(\u001b[0m\u001b[0;34m)\u001b[0m\u001b[0;34m.\u001b[0m\u001b[0msystem\u001b[0m\u001b[0;34m(\u001b[0m\u001b[0;34m'mv pg11.txt alice.txt'\u001b[0m\u001b[0;34m)\u001b[0m\u001b[0;34m\u001b[0m\u001b[0m\n\u001b[0;32m----> 2\u001b[0;31m \u001b[0;32mraise\u001b[0m \u001b[0mNotImplementedError\u001b[0m\u001b[0;34m(\u001b[0m\u001b[0;34m)\u001b[0m\u001b[0;34m\u001b[0m\u001b[0m\n\u001b[0m",
      "\u001b[0;31mNotImplementedError\u001b[0m: "
     ]
    }
   ],
   "source": [
    "!mv pg11.txt alice.txt\n",
    "raise NotImplementedError()"
   ]
  },
  {
   "cell_type": "code",
   "execution_count": 62,
   "metadata": {
    "collapsed": false,
    "deletable": false,
    "nbgrader": {
     "checksum": "7a32f182a737a645351c7d3ec10bb601",
     "grade": true,
     "grade_id": "2310",
     "locked": true,
     "points": 1,
     "solution": false
    }
   },
   "outputs": [],
   "source": [
    "assert 'alice.txt' in os.listdir('.')"
   ]
  },
  {
   "cell_type": "markdown",
   "metadata": {},
   "source": [
    "Take a look at the next cell.  Will it find the top 25 unique words in *Alice in Wonderland* successfully?"
   ]
  },
  {
   "cell_type": "code",
   "execution_count": 64,
   "metadata": {
    "collapsed": false,
    "deletable": false,
    "nbgrader": {
     "checksum": "26e86e52c08c3ab85688df6d66119936",
     "grade": false,
     "grade_id": "320",
     "locked": true,
     "solution": false
    }
   },
   "outputs": [
    {
     "name": "stdout",
     "output_type": "stream",
     "text": [
      "      1 000\n",
      "      4 11\n",
      "      1 1500\n",
      "      1 1887\n",
      "      1 1994\n",
      "      2 20\n",
      "      1 2001\n",
      "      1 2008\n",
      "      1 2011\n",
      "      1 25\n",
      "      1 30\n",
      "      1 4557\n",
      "      1 50\n",
      "      2 501\n",
      "      1 596\n",
      "      1 60\n",
      "      1 6221541\n",
      "      1 64\n",
      "      1 801\n",
      "      1 809\n",
      "      1 84116\n",
      "      2 90\n",
      "      1 99712\n",
      "      2 abide\n",
      "      1 able\n",
      "uniq: write error: Broken pipe\n"
     ]
    }
   ],
   "source": [
    "!cat alice.txt | grep -oE '\\w{{2,}}' | sort | uniq -c | head -25"
   ]
  },
  {
   "cell_type": "markdown",
   "metadata": {},
   "source": [
    "Describe what needs to be done to the previous cell to get it to work correctly.  Describe it using words, explaining the issues, rather than using shell commands!"
   ]
  },
  {
   "cell_type": "code",
   "execution_count": 75,
   "metadata": {
    "collapsed": false,
    "deletable": false,
    "nbgrader": {
     "checksum": "82d87b678297590355baaaecd78c9194",
     "grade": true,
     "grade_id": "2330",
     "locked": false,
     "points": 1,
     "solution": true
    }
   },
   "outputs": [
    {
     "name": "stdout",
     "output_type": "stream",
     "text": [
      "Following the examples in the previous section, all the words should be converted from upper case to lower case so we are counting the unique words correctly and do not consider upper case words different from the same lower case words. This is done by adding command tr '[:upper:]' '[:lower:]'.Command sort sorts the words by character, while we need to be sorted by number. In order to do that, command sort -n is added. Words are not sorted in the desired order. We could either use tail -25 instead of head -25 or sort -rn instead of sort-n.\n"
     ]
    }
   ],
   "source": [
    "print (\"Following the examples in the previous section, all the words should be converted from upper case to lower case so we are counting the unique words correctly and do not consider upper case words different from the same lower case words. This is done by adding command tr '[:upper:]' '[:lower:]'.Command sort sorts the words by character, while we need to be sorted by number. In order to do that, command sort -n is added. Words are not sorted in the desired order. We could either use tail -25 instead of head -25 or sort -rn instead of sort-n.\")\n",
    "\n"
   ]
  },
  {
   "cell_type": "markdown",
   "metadata": {},
   "source": [
    "Okay, now implement your solution using shell commands with a pipeline."
   ]
  },
  {
   "cell_type": "code",
   "execution_count": 76,
   "metadata": {
    "collapsed": false,
    "deletable": false,
    "nbgrader": {
     "checksum": "705b45eae498bda71878d7ee56129858",
     "grade": true,
     "grade_id": "2340",
     "locked": false,
     "points": 1,
     "solution": true
    }
   },
   "outputs": [
    {
     "name": "stdout",
     "output_type": "stream",
     "text": [
      "   1818 the\r\n",
      "    940 and\r\n",
      "    809 to\r\n",
      "    631 of\r\n",
      "    610 it\r\n",
      "    553 she\r\n",
      "    481 you\r\n",
      "    462 said\r\n",
      "    431 in\r\n",
      "    403 alice\r\n",
      "    358 was\r\n",
      "    330 that\r\n",
      "    274 as\r\n",
      "    248 her\r\n",
      "    228 with\r\n",
      "    227 at\r\n",
      "    204 on\r\n",
      "    200 all\r\n",
      "    181 this\r\n",
      "    179 for\r\n",
      "    178 had\r\n",
      "    175 but\r\n",
      "    167 be\r\n",
      "    166 not\r\n",
      "    155 they\r\n",
      "sort: write failed: 'standard output': Broken pipe\r\n",
      "sort: write error\r\n"
     ]
    },
    {
     "ename": "NotImplementedError",
     "evalue": "",
     "output_type": "error",
     "traceback": [
      "\u001b[0;31m---------------------------------------------------------------------------\u001b[0m",
      "\u001b[0;31mNotImplementedError\u001b[0m                       Traceback (most recent call last)",
      "\u001b[0;32m<ipython-input-76-02da6c18a4d0>\u001b[0m in \u001b[0;36m<module>\u001b[0;34m()\u001b[0m\n\u001b[1;32m      1\u001b[0m \u001b[0mget_ipython\u001b[0m\u001b[0;34m(\u001b[0m\u001b[0;34m)\u001b[0m\u001b[0;34m.\u001b[0m\u001b[0msystem\u001b[0m\u001b[0;34m(\u001b[0m\u001b[0;34m\"cat alice.txt | grep -oE '\\\\w{{2,}}' | tr '[:upper:]' '[:lower:]'| sort | uniq -c |sort -rn| head -25\"\u001b[0m\u001b[0;34m)\u001b[0m\u001b[0;34m\u001b[0m\u001b[0m\n\u001b[0;32m----> 2\u001b[0;31m \u001b[0;32mraise\u001b[0m \u001b[0mNotImplementedError\u001b[0m\u001b[0;34m(\u001b[0m\u001b[0;34m)\u001b[0m\u001b[0;34m\u001b[0m\u001b[0m\n\u001b[0m",
      "\u001b[0;31mNotImplementedError\u001b[0m: "
     ]
    }
   ],
   "source": [
    "!cat alice.txt | grep -oE '\\w{{2,}}' | tr '[:upper:]' '[:lower:]'| sort | uniq -c |sort -rn| head -25\n",
    "raise NotImplementedError()"
   ]
  },
  {
   "cell_type": "markdown",
   "metadata": {},
   "source": [
    "## Part 2 - csvkit basics\n",
    "\n",
    "Let's look at some CSV data using csvkit.  Download the 2015 fourth quarter trip dataset from [Capital Bikeshare's trip history data](https://www.capitalbikeshare.com/trip-history-data):"
   ]
  },
  {
   "cell_type": "code",
   "execution_count": 77,
   "metadata": {
    "collapsed": false,
    "deletable": false,
    "nbgrader": {
     "checksum": "c01ae40f13c83fa69e15e111b3f1e8d7",
     "grade": false,
     "grade_id": "350",
     "locked": true,
     "solution": false
    }
   },
   "outputs": [
    {
     "name": "stdout",
     "output_type": "stream",
     "text": [
      "--2016-09-08 22:27:52--  https://s3.amazonaws.com/capitalbikeshare-data/2015-Q4-cabi-trip-history-data.zip\n",
      "Resolving s3.amazonaws.com (s3.amazonaws.com)... 54.231.72.58\n",
      "Connecting to s3.amazonaws.com (s3.amazonaws.com)|54.231.72.58|:443... connected.\n",
      "HTTP request sent, awaiting response... 200 OK\n",
      "Length: 14308794 (14M) [application/zip]\n",
      "Saving to: ‘2015-Q4-cabi-trip-history-data.zip’\n",
      "\n",
      "2015-Q4-cabi-trip-h 100%[===================>]  13.65M  4.79MB/s    in 2.8s    \n",
      "\n",
      "2016-09-08 22:27:55 (4.79 MB/s) - ‘2015-Q4-cabi-trip-history-data.zip’ saved [14308794/14308794]\n",
      "\n"
     ]
    }
   ],
   "source": [
    "!wget https://s3.amazonaws.com/capitalbikeshare-data/2015-Q4-cabi-trip-history-data.zip"
   ]
  },
  {
   "cell_type": "markdown",
   "metadata": {},
   "source": [
    "Let's unzip it, rename it to something short, and take a look."
   ]
  },
  {
   "cell_type": "code",
   "execution_count": 78,
   "metadata": {
    "collapsed": false,
    "deletable": false,
    "nbgrader": {
     "checksum": "1588269129e9810f1e1e0805685a7d2c",
     "grade": false,
     "grade_id": "360",
     "locked": true,
     "solution": false
    }
   },
   "outputs": [
    {
     "name": "stdout",
     "output_type": "stream",
     "text": [
      "Archive:  2015-Q4-cabi-trip-history-data.zip\n",
      "  inflating: 2015-Q4-Trips-History-Data.csv  \n"
     ]
    }
   ],
   "source": [
    "!unzip 2015-Q4-cabi-trip-history-data.zip"
   ]
  },
  {
   "cell_type": "code",
   "execution_count": 79,
   "metadata": {
    "collapsed": true,
    "deletable": false,
    "nbgrader": {
     "checksum": "fe6ecef395c64a6da7fe205596b87188",
     "grade": false,
     "grade_id": "370",
     "locked": true,
     "solution": false
    }
   },
   "outputs": [],
   "source": [
    "!mv 2015-Q4-Trips-History-Data.csv q4.csv"
   ]
  },
  {
   "cell_type": "code",
   "execution_count": 80,
   "metadata": {
    "collapsed": false,
    "deletable": false,
    "nbgrader": {
     "checksum": "986e37fce8734b05200049250a8ffb9a",
     "grade": false,
     "grade_id": "380",
     "locked": true,
     "solution": false
    }
   },
   "outputs": [
    {
     "name": "stdout",
     "output_type": "stream",
     "text": [
      "Duration (ms),Start date,End date,Start station number,Start station,End station number,End station,Bike #,Member type\r",
      "\r\n",
      "166050,10/1/2015 0:01,10/1/2015 0:04,31602,Park Rd & Holmead Pl NW,31105,14th & Harvard St NW,W21109,Registered\r",
      "\r\n",
      "379172,10/1/2015 0:01,10/1/2015 0:07,31314,34th & Water St NW,31237,25th St & Pennsylvania Ave NW,W20603,Registered\r",
      "\r\n",
      "696038,10/1/2015 0:01,10/1/2015 0:13,31214,17th & Corcoran St NW,31214,17th & Corcoran St NW,W01233,Registered\r",
      "\r\n",
      "219423,10/1/2015 0:02,10/1/2015 0:06,31104,Adams Mill & Columbia Rd NW,31121,Calvert St & Woodley Pl NW,W00218,Registered\r",
      "\r\n",
      "253230,10/1/2015 0:03,10/1/2015 0:07,31102,11th & Kenyon St NW,31102,11th & Kenyon St NW,W21612,Registered\r",
      "\r\n",
      "655251,10/1/2015 0:03,10/1/2015 0:14,31242,18th St & Pennsylvania Ave NW,31114,18th St & Wyoming Ave NW,W22093,Registered\r",
      "\r\n",
      "309212,10/1/2015 0:06,10/1/2015 0:11,31280,11th & S St NW,31278,18th & R St NW,W00231,Registered\r",
      "\r\n",
      "776195,10/1/2015 0:07,10/1/2015 0:20,31226,34th St & Wisconsin Ave NW,31214,17th & Corcoran St NW,W20820,Registered\r",
      "\r\n",
      "151604,10/1/2015 0:07,10/1/2015 0:10,31017,Wilson Blvd & N Uhle St,31029,N Veitch  & 20th St N,W00244,Registered\r",
      "\r\n"
     ]
    }
   ],
   "source": [
    "!head q4.csv"
   ]
  },
  {
   "cell_type": "markdown",
   "metadata": {},
   "source": [
    "csvkit gives us great tools for examining and working with CSV data.  We start by looking at the columns:"
   ]
  },
  {
   "cell_type": "code",
   "execution_count": 82,
   "metadata": {
    "collapsed": false,
    "deletable": false,
    "nbgrader": {
     "checksum": "4dd9be730f6a26cd6174cae97a4a6518",
     "grade": false,
     "grade_id": "390",
     "locked": true,
     "solution": false
    }
   },
   "outputs": [
    {
     "name": "stdout",
     "output_type": "stream",
     "text": [
      "  1: Duration (ms)\r\n",
      "  2: Start date\r\n",
      "  3: End date\r\n",
      "  4: Start station number\r\n",
      "  5: Start station\r\n",
      "  6: End station number\r\n",
      "  7: End station\r\n",
      "  8: Bike #\r\n",
      "  9: Member type\r\n"
     ]
    }
   ],
   "source": [
    "!csvcut -n q4.csv"
   ]
  },
  {
   "cell_type": "markdown",
   "metadata": {},
   "source": [
    "We can also extract just a few columns with `csvcut`:"
   ]
  },
  {
   "cell_type": "code",
   "execution_count": 83,
   "metadata": {
    "collapsed": false,
    "deletable": false,
    "nbgrader": {
     "checksum": "1bb03d896e92c878b2d39d293099ff3f",
     "grade": false,
     "grade_id": "400",
     "locked": true,
     "solution": false
    }
   },
   "outputs": [
    {
     "name": "stdout",
     "output_type": "stream",
     "text": [
      "Duration (ms),Start station,End station\r\n",
      "166050,Park Rd & Holmead Pl NW,14th & Harvard St NW\r\n",
      "379172,34th & Water St NW,25th St & Pennsylvania Ave NW\r\n",
      "696038,17th & Corcoran St NW,17th & Corcoran St NW\r\n",
      "219423,Adams Mill & Columbia Rd NW,Calvert St & Woodley Pl NW\r\n",
      "253230,11th & Kenyon St NW,11th & Kenyon St NW\r\n",
      "655251,18th St & Pennsylvania Ave NW,18th St & Wyoming Ave NW\r\n",
      "309212,11th & S St NW,18th & R St NW\r\n",
      "776195,34th St & Wisconsin Ave NW,17th & Corcoran St NW\r\n",
      "151604,Wilson Blvd & N Uhle St,N Veitch  & 20th St N\r\n"
     ]
    }
   ],
   "source": [
    "!csvcut -c1,5,7 q4.csv | head -10"
   ]
  },
  {
   "cell_type": "markdown",
   "metadata": {},
   "source": [
    "...and make it look better with `csvlook`:"
   ]
  },
  {
   "cell_type": "code",
   "execution_count": 84,
   "metadata": {
    "collapsed": false,
    "deletable": false,
    "nbgrader": {
     "checksum": "5de9b6c06fbf1d89a8be2a15fac5f594",
     "grade": false,
     "grade_id": "410",
     "locked": true,
     "solution": false
    }
   },
   "outputs": [
    {
     "name": "stdout",
     "output_type": "stream",
     "text": [
      "|----------------+-------------------------------+--------------------------------|\n",
      "|  Duration (ms) | Start station                 | End station                    |\n",
      "|----------------+-------------------------------+--------------------------------|\n",
      "|  166050        | Park Rd & Holmead Pl NW       | 14th & Harvard St NW           |\n",
      "|  379172        | 34th & Water St NW            | 25th St & Pennsylvania Ave NW  |\n",
      "|  696038        | 17th & Corcoran St NW         | 17th & Corcoran St NW          |\n",
      "|  219423        | Adams Mill & Columbia Rd NW   | Calvert St & Woodley Pl NW     |\n",
      "|  253230        | 11th & Kenyon St NW           | 11th & Kenyon St NW            |\n",
      "|  655251        | 18th St & Pennsylvania Ave NW | 18th St & Wyoming Ave NW       |\n",
      "|  309212        | 11th & S St NW                | 18th & R St NW                 |\n",
      "|  776195        | 34th St & Wisconsin Ave NW    | 17th & Corcoran St NW          |\n",
      "|  151604        | Wilson Blvd & N Uhle St       | N Veitch  & 20th St N          |\n",
      "|----------------+-------------------------------+--------------------------------|\n"
     ]
    }
   ],
   "source": [
    "!csvcut -c1,5,7 q4.csv | head -10 | csvlook"
   ]
  },
  {
   "cell_type": "markdown",
   "metadata": {},
   "source": [
    "It gets even better.  Try `csvgrep`:"
   ]
  },
  {
   "cell_type": "code",
   "execution_count": 90,
   "metadata": {
    "collapsed": false,
    "deletable": false,
    "nbgrader": {
     "checksum": "03341ba101634b8eadec474e5101fe0c",
     "grade": false,
     "grade_id": "420",
     "locked": true,
     "solution": false
    }
   },
   "outputs": [
    {
     "name": "stdout",
     "output_type": "stream",
     "text": [
      "|----------------+----------------------------------+-----------------|\r\n",
      "|  Duration (ms) | Start station                    | End station     |\r\n",
      "|----------------+----------------------------------+-----------------|\r\n",
      "|  872420        | 5th St & Massachusetts Ave NW    | 21st & I St NW  |\r\n",
      "|  1249207       | 11th & Kenyon St NW              | 21st & I St NW  |\r\n",
      "|  548066        | 17th & Corcoran St NW            | 21st & I St NW  |\r\n",
      "|  604362        | 18th St & Wyoming Ave NW         | 21st & I St NW  |\r\n",
      "|  1556978       | Army Navy Dr & S Nash St         | 21st & I St NW  |\r\n",
      "|  586738        | New Hampshire Ave & T St NW      | 21st & I St NW  |\r\n",
      "|  259421        | 17th & K St NW / Farragut Square | 21st & I St NW  |\r\n",
      "|  269179        | M St & Pennsylvania Ave NW       | 21st & I St NW  |\r\n",
      "|  227962        | 25th St & Pennsylvania Ave NW    | 21st & I St NW  |\r\n",
      "|----------------+----------------------------------+-----------------|\r\n"
     ]
    }
   ],
   "source": [
    "!csvcut -c1,5,7 q4.csv | csvgrep -c3 -m '21st & I St NW' | head -10 | csvlook"
   ]
  },
  {
   "cell_type": "markdown",
   "metadata": {},
   "source": [
    "But wait, there's more:"
   ]
  },
  {
   "cell_type": "code",
   "execution_count": 91,
   "metadata": {
    "collapsed": false,
    "deletable": false,
    "nbgrader": {
     "checksum": "880dea88767a1e926f5810da22d6140f",
     "grade": false,
     "grade_id": "430",
     "locked": true,
     "solution": false
    }
   },
   "outputs": [
    {
     "name": "stdout",
     "output_type": "stream",
     "text": [
      "|----------------+-----------------------+-----------------|\r\n",
      "|  Duration (ms) | Start station         | End station     |\r\n",
      "|----------------+-----------------------+-----------------|\r\n",
      "|  890758        | 10th & E St NW        | 21st & I St NW  |\r\n",
      "|  1074547       | 10th & E St NW        | 21st & I St NW  |\r\n",
      "|  751900        | 10th & E St NW        | 21st & I St NW  |\r\n",
      "|  938747        | 10th & Florida Ave NW | 21st & I St NW  |\r\n",
      "|  1001635       | 10th & Florida Ave NW | 21st & I St NW  |\r\n",
      "|  837341        | 10th & Florida Ave NW | 21st & I St NW  |\r\n",
      "|  891224        | 10th & Florida Ave NW | 21st & I St NW  |\r\n",
      "|  1070924       | 10th & Florida Ave NW | 21st & I St NW  |\r\n",
      "|  799070        | 10th & Florida Ave NW | 21st & I St NW  |\r\n",
      "|----------------+-----------------------+-----------------|\r\n"
     ]
    }
   ],
   "source": [
    "!csvcut -c1,5,7 q4.csv | csvgrep -c3 -m '21st & I St NW' | csvsort -c2 | head -10 | csvlook"
   ]
  },
  {
   "cell_type": "markdown",
   "metadata": {},
   "source": [
    "And you can perform basic statistics very easily:"
   ]
  },
  {
   "cell_type": "code",
   "execution_count": 92,
   "metadata": {
    "collapsed": false,
    "deletable": false,
    "nbgrader": {
     "checksum": "8f2e3bc4c7d9dcb36f1aabb5a5d36746",
     "grade": false,
     "grade_id": "440",
     "locked": true,
     "solution": false
    }
   },
   "outputs": [
    {
     "name": "stdout",
     "output_type": "stream",
     "text": [
      "  1. Duration (ms)\r\n",
      "\t<type 'int'>\r\n",
      "\tNulls: False\r\n",
      "\tMin: 65972\r\n",
      "\tMax: 29254066\r\n",
      "\tSum: 3721091088\r\n",
      "\tMean: 867387.2\r\n",
      "\tMedian: 678586.5\r\n",
      "\tStandard Deviation: 1148902.39491\r\n",
      "\tUnique values: 4281\r\n",
      "\t5 most frequent values:\r\n",
      "\t\t948623:\t2\r\n",
      "\t\t889715:\t2\r\n",
      "\t\t417735:\t2\r\n",
      "\t\t641735:\t2\r\n",
      "\t\t716896:\t2\r\n",
      "\r\n",
      "Row count: 4290\r\n"
     ]
    }
   ],
   "source": [
    "!csvcut -c1,5,7 q4.csv | csvgrep -c3 -m '21st & I St NW' | csvcut -c1 | csvstat"
   ]
  },
  {
   "cell_type": "markdown",
   "metadata": {},
   "source": [
    "### Your turn\n",
    "\n",
    "Which set of trips had the longer average trip duration:  trips *starting* at \"Massachusetts Ave & Dupont Circle NW\", or trips *ending* at \"Massachusetts Ave & Dupont Circle NW\"?\n",
    "\n",
    "Use as many new cells as you need to compute the answer, and then write in your answer below in the \"YOUR ANSWER HERE\" cell."
   ]
  },
  {
   "cell_type": "code",
   "execution_count": 93,
   "metadata": {
    "collapsed": false,
    "deletable": false,
    "nbgrader": {
     "checksum": "35d59cb6301433a2ff420b7a34bc0889",
     "grade": true,
     "grade_id": "2450",
     "locked": false,
     "points": 3,
     "solution": true
    }
   },
   "outputs": [
    {
     "name": "stdout",
     "output_type": "stream",
     "text": [
      "  1. Duration (ms)\r\n",
      "\t<type 'int'>\r\n",
      "\tNulls: False\r\n",
      "\tMin: 61260\r\n",
      "\tMax: 74022396\r\n",
      "\tSum: 12050906879\r\n",
      "\tMean: 946431.07508\r\n",
      "\tMedian: 607205\r\n",
      "\tStandard Deviation: 1910753.05934\r\n",
      "\tUnique values: 12672\r\n",
      "\t5 most frequent values:\r\n",
      "\t\t257138:\t3\r\n",
      "\t\t231962:\t2\r\n",
      "\t\t305764:\t2\r\n",
      "\t\t497941:\t2\r\n",
      "\t\t564024:\t2\r\n",
      "\r\n",
      "Row count: 12733\r\n"
     ]
    },
    {
     "ename": "NotImplementedError",
     "evalue": "",
     "output_type": "error",
     "traceback": [
      "\u001b[0;31m---------------------------------------------------------------------------\u001b[0m",
      "\u001b[0;31mNotImplementedError\u001b[0m                       Traceback (most recent call last)",
      "\u001b[0;32m<ipython-input-93-9f028478a5e9>\u001b[0m in \u001b[0;36m<module>\u001b[0;34m()\u001b[0m\n\u001b[1;32m      1\u001b[0m \u001b[0mget_ipython\u001b[0m\u001b[0;34m(\u001b[0m\u001b[0;34m)\u001b[0m\u001b[0;34m.\u001b[0m\u001b[0msystem\u001b[0m\u001b[0;34m(\u001b[0m\u001b[0;34m\"csvcut -c1,5,7 q4.csv | csvgrep -c2 -m 'Massachusetts Ave & Dupont Circle NW' | csvcut -c1 | csvstat\"\u001b[0m\u001b[0;34m)\u001b[0m\u001b[0;34m\u001b[0m\u001b[0m\n\u001b[0;32m----> 2\u001b[0;31m \u001b[0;32mraise\u001b[0m \u001b[0mNotImplementedError\u001b[0m\u001b[0;34m(\u001b[0m\u001b[0;34m)\u001b[0m\u001b[0;34m\u001b[0m\u001b[0m\n\u001b[0m",
      "\u001b[0;31mNotImplementedError\u001b[0m: "
     ]
    }
   ],
   "source": [
    "!csvcut -c1,5,7 q4.csv | csvgrep -c2 -m 'Massachusetts Ave & Dupont Circle NW' | csvcut -c1 | csvstat\n",
    "raise NotImplementedError()"
   ]
  },
  {
   "cell_type": "code",
   "execution_count": 94,
   "metadata": {
    "collapsed": false
   },
   "outputs": [
    {
     "name": "stdout",
     "output_type": "stream",
     "text": [
      "  1. Duration (ms)\r\n",
      "\t<type 'int'>\r\n",
      "\tNulls: False\r\n",
      "\tMin: 60476\r\n",
      "\tMax: 74676819\r\n",
      "\tSum: 12098780287\r\n",
      "\tMean: 840543.301862\r\n",
      "\tMedian: 569422.0\r\n",
      "\tStandard Deviation: 1767359.30721\r\n",
      "\tUnique values: 14309\r\n",
      "\t5 most frequent values:\r\n",
      "\t\t846668:\t2\r\n",
      "\t\t581352:\t2\r\n",
      "\t\t368928:\t2\r\n",
      "\t\t258948:\t2\r\n",
      "\t\t453439:\t2\r\n",
      "\r\n",
      "Row count: 14394\r\n"
     ]
    }
   ],
   "source": [
    "!csvcut -c1,5,7 q4.csv | csvgrep -c3 -m 'Massachusetts Ave & Dupont Circle NW' | csvcut -c1 | csvstat"
   ]
  },
  {
   "cell_type": "code",
   "execution_count": 96,
   "metadata": {
    "collapsed": false
   },
   "outputs": [
    {
     "name": "stdout",
     "output_type": "stream",
     "text": [
      "An average duration of a trip from Massachusetts Ave & Dupont Circle NW is longer than an average duration of a trip to the same place, with their values being 946431.07508 ms and 840543.301862 ms respectively.\n"
     ]
    }
   ],
   "source": [
    "print(\"An average duration of a trip from Massachusetts Ave & Dupont Circle NW is longer than an average duration of a trip to the same place, with their values being 946431.07508 ms and 840543.301862 ms respectively.\") \n"
   ]
  },
  {
   "cell_type": "code",
   "execution_count": null,
   "metadata": {
    "collapsed": true
   },
   "outputs": [],
   "source": []
  }
 ],
 "metadata": {
  "anaconda-cloud": {},
  "kernelspec": {
   "display_name": "Python 3",
   "language": "python",
   "name": "python3"
  },
  "language_info": {
   "codemirror_mode": {
    "name": "ipython",
    "version": 3
   },
   "file_extension": ".py",
   "mimetype": "text/x-python",
   "name": "python",
   "nbconvert_exporter": "python",
   "pygments_lexer": "ipython3",
   "version": "3.5.2"
  }
 },
 "nbformat": 4,
 "nbformat_minor": 1
}
